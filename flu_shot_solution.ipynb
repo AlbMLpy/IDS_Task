{
 "cells": [
  {
   "cell_type": "markdown",
   "metadata": {},
   "source": [
    "# **Brief Description:**"
   ]
  },
  {
   "cell_type": "markdown",
   "metadata": {},
   "source": [
    "## Project done by **Albert Sayapin** and **Sergei Nikodimov** (IDS 2021)"
   ]
  },
  {
   "cell_type": "markdown",
   "metadata": {},
   "source": [
    "## Grading details:\n",
    "\n",
    "1. Describe the *problem* you want to solve. *Why* is it *important*? *Why* do we want to use *Machine Learning*? (Task 1)\n",
    "2. *Load* the data using pandas and *split* the data frame into X (*inputs*) and y (*outputs*). (Task 2)\n",
    "3. *Prepare* your *dataset*:\n",
    "   1. encode categorical variables(if any); Explain. (Task 3.1)\n",
    "   2. handle missing variables (if any); Explain. (Task 3.2)\n",
    "   3. generate new features (if useful); Explain. (Task 3.3)\n",
    "   4. preprocess target (if needed); Explain. (Task 3.4)\n",
    "4. Perform EDA via visualization with Seaborn:\n",
    "   1. try to find patterns to make ML task more specific / to help with selection and tuning ML models. (Task 4.1)\n",
    "   2. preprocess your data if your findings suggest this; Explain. (Task 4.2)\n",
    "   3. after you can select tagret changes; Explain. (Task 4.3)\n",
    "5. Training:\n",
    "   1. build a proper cross-validation procedure; Explain. (Task 5.1)\n",
    "   2. select an appropriate measure of quality; Explain. (Task 5.2)\n",
    "   3. choose an ML model; Explain. (Task 5.3) \n",
    "   4. look for a good set of hyperparameters. (Task 5.4)\n",
    "   5. use the prepared cv procedure to estimate the quality of prediction. (Task 5.5)\n",
    "6. Analyze the obtained results and make final conclusion:\n",
    "   1. interesting findings, remarks on ML experiments; (Task 6.1)\n",
    "   2. the applicability of the model in a real-life scenario; (Task 6.2)\n",
    "   3. does your model solve the problem stated at the beginning? (Task 6.3)\n",
    "   4. Can you estimate the impact of your ML model on the problem domain (Task 6.4)\n"
   ]
  },
  {
   "cell_type": "markdown",
   "metadata": {},
   "source": [
    "## <u>Task 1. ANSWER HERE.</u>"
   ]
  },
  {
   "cell_type": "code",
   "execution_count": null,
   "metadata": {},
   "outputs": [],
   "source": [
    "import numpy as np\n",
    "import pandas as pd\n",
    "\n",
    "from sklearn.linear_model import LogisticRegression\n",
    "from sklearn.svm import SVC, LinearSVC\n",
    "from sklearn.neighbors import KNeighborsClassifier\n",
    "from sklearn.tree import DecisionTreeClassifier\n",
    "from sklearn.ensemble import RandomForestClassifier\n",
    "from sklearn.naive_bayes import GaussianNB\n",
    "from sklearn.neural_network import MLPClassifier\n",
    "\n",
    "from sklearn.preprocessing import StandardScaler\n",
    "from sklearn.decomposition import PCA\n",
    "from sklearn.pipeline import Pipeline\n",
    "from sklearn.model_selection import GridSearchCV\n",
    "from sklearn.model_selection import train_test_split\n",
    "from sklearn.metrics import roc_auc_score\n",
    "\n",
    "import matplotlib.pyplot as plt\n",
    "import seaborn as sns\n",
    "\n",
    "import warnings\n",
    "\n",
    "%matplotlib inline\n",
    "sns.set()\n",
    "warnings.filterwarnings('ignore')"
   ]
  },
  {
   "cell_type": "markdown",
   "metadata": {},
   "source": [
    "# **Work with the data:**"
   ]
  },
  {
   "cell_type": "markdown",
   "metadata": {},
   "source": [
    "## *Load the data:*"
   ]
  },
  {
   "cell_type": "markdown",
   "metadata": {},
   "source": [
    "## <u>Task 2. Look at one Cell below.</u>"
   ]
  },
  {
   "cell_type": "code",
   "execution_count": 2,
   "metadata": {},
   "outputs": [],
   "source": [
    "train_data = pd.read_csv(\"training_set_features.csv\", index_col=0)\n",
    "train_target = pd.read_csv(\"training_set_labels.csv\", index_col=0)"
   ]
  },
  {
   "cell_type": "markdown",
   "metadata": {},
   "source": [
    "## *Look at the data and deal with missing values:*"
   ]
  },
  {
   "cell_type": "markdown",
   "metadata": {},
   "source": [
    "### Features:"
   ]
  },
  {
   "cell_type": "code",
   "execution_count": 3,
   "metadata": {},
   "outputs": [
    {
     "data": {
      "text/plain": [
       "(26707, 35)"
      ]
     },
     "execution_count": 3,
     "metadata": {},
     "output_type": "execute_result"
    }
   ],
   "source": [
    "train_data.shape"
   ]
  },
  {
   "cell_type": "code",
   "execution_count": 4,
   "metadata": {},
   "outputs": [
    {
     "data": {
      "text/plain": [
       "Index(['h1n1_concern', 'h1n1_knowledge', 'behavioral_antiviral_meds',\n",
       "       'behavioral_avoidance', 'behavioral_face_mask', 'behavioral_wash_hands',\n",
       "       'behavioral_large_gatherings', 'behavioral_outside_home',\n",
       "       'behavioral_touch_face', 'doctor_recc_h1n1', 'doctor_recc_seasonal',\n",
       "       'chronic_med_condition', 'child_under_6_months', 'health_worker',\n",
       "       'health_insurance', 'opinion_h1n1_vacc_effective', 'opinion_h1n1_risk',\n",
       "       'opinion_h1n1_sick_from_vacc', 'opinion_seas_vacc_effective',\n",
       "       'opinion_seas_risk', 'opinion_seas_sick_from_vacc', 'age_group',\n",
       "       'education', 'race', 'sex', 'income_poverty', 'marital_status',\n",
       "       'rent_or_own', 'employment_status', 'hhs_geo_region', 'census_msa',\n",
       "       'household_adults', 'household_children', 'employment_industry',\n",
       "       'employment_occupation'],\n",
       "      dtype='object')"
      ]
     },
     "execution_count": 4,
     "metadata": {},
     "output_type": "execute_result"
    }
   ],
   "source": [
    "train_data.columns"
   ]
  },
  {
   "cell_type": "code",
   "execution_count": 6,
   "metadata": {},
   "outputs": [],
   "source": [
    "common_cols = [\n",
    "    'behavioral_antiviral_meds',\n",
    "    'behavioral_avoidance', 'behavioral_face_mask',\n",
    "    'behavioral_wash_hands', 'behavioral_large_gatherings',\n",
    "    'behavioral_outside_home', 'behavioral_touch_face',\n",
    "    'chronic_med_condition', 'child_under_6_months',\n",
    "    'health_worker', 'health_insurance',\n",
    "    'age_group', 'education', 'race', 'sex', 'income_poverty',\n",
    "    'marital_status', 'rent_or_own', 'employment_status',\n",
    "    'hhs_geo_region', 'census_msa', 'household_adults',\n",
    "    'household_children', 'employment_industry', 'employment_occupation',\n",
    "]\n",
    "    \n",
    "seasonal_cols = [\n",
    "    'doctor_recc_seasonal', 'opinion_seas_vacc_effective',\n",
    "    'opinion_seas_risk', 'opinion_seas_sick_from_vacc',\n",
    "]\n",
    "\n",
    "h1n1_cols = [\n",
    "    'h1n1_concern', 'h1n1_knowledge', 'doctor_recc_h1n1',\n",
    "    'opinion_h1n1_vacc_effective', 'opinion_h1n1_risk',\n",
    "    'opinion_h1n1_sick_from_vacc',\n",
    "]\n",
    "\n",
    "assert len(common_cols) + len(seasonal_cols) + len(h1n1_cols) == len(train_data.columns)"
   ]
  },
  {
   "cell_type": "code",
   "execution_count": 8,
   "metadata": {},
   "outputs": [
    {
     "data": {
      "text/plain": [
       "array([dtype('float64'), dtype('O')], dtype=object)"
      ]
     },
     "execution_count": 8,
     "metadata": {},
     "output_type": "execute_result"
    }
   ],
   "source": [
    "train_data.dtypes.unique()"
   ]
  },
  {
   "cell_type": "code",
   "execution_count": 9,
   "metadata": {},
   "outputs": [
    {
     "data": {
      "text/html": [
       "<div>\n",
       "<style scoped>\n",
       "    .dataframe tbody tr th:only-of-type {\n",
       "        vertical-align: middle;\n",
       "    }\n",
       "\n",
       "    .dataframe tbody tr th {\n",
       "        vertical-align: top;\n",
       "    }\n",
       "\n",
       "    .dataframe thead th {\n",
       "        text-align: right;\n",
       "    }\n",
       "</style>\n",
       "<table border=\"1\" class=\"dataframe\">\n",
       "  <thead>\n",
       "    <tr style=\"text-align: right;\">\n",
       "      <th></th>\n",
       "      <th>count</th>\n",
       "      <th>mean</th>\n",
       "      <th>std</th>\n",
       "      <th>min</th>\n",
       "      <th>25%</th>\n",
       "      <th>50%</th>\n",
       "      <th>75%</th>\n",
       "      <th>max</th>\n",
       "    </tr>\n",
       "  </thead>\n",
       "  <tbody>\n",
       "    <tr>\n",
       "      <th>h1n1_concern</th>\n",
       "      <td>26615.0</td>\n",
       "      <td>1.618486</td>\n",
       "      <td>0.910311</td>\n",
       "      <td>0.0</td>\n",
       "      <td>1.0</td>\n",
       "      <td>2.0</td>\n",
       "      <td>2.0</td>\n",
       "      <td>3.0</td>\n",
       "    </tr>\n",
       "    <tr>\n",
       "      <th>h1n1_knowledge</th>\n",
       "      <td>26591.0</td>\n",
       "      <td>1.262532</td>\n",
       "      <td>0.618149</td>\n",
       "      <td>0.0</td>\n",
       "      <td>1.0</td>\n",
       "      <td>1.0</td>\n",
       "      <td>2.0</td>\n",
       "      <td>2.0</td>\n",
       "    </tr>\n",
       "    <tr>\n",
       "      <th>behavioral_antiviral_meds</th>\n",
       "      <td>26636.0</td>\n",
       "      <td>0.048844</td>\n",
       "      <td>0.215545</td>\n",
       "      <td>0.0</td>\n",
       "      <td>0.0</td>\n",
       "      <td>0.0</td>\n",
       "      <td>0.0</td>\n",
       "      <td>1.0</td>\n",
       "    </tr>\n",
       "    <tr>\n",
       "      <th>behavioral_avoidance</th>\n",
       "      <td>26499.0</td>\n",
       "      <td>0.725612</td>\n",
       "      <td>0.446214</td>\n",
       "      <td>0.0</td>\n",
       "      <td>0.0</td>\n",
       "      <td>1.0</td>\n",
       "      <td>1.0</td>\n",
       "      <td>1.0</td>\n",
       "    </tr>\n",
       "    <tr>\n",
       "      <th>behavioral_face_mask</th>\n",
       "      <td>26688.0</td>\n",
       "      <td>0.068982</td>\n",
       "      <td>0.253429</td>\n",
       "      <td>0.0</td>\n",
       "      <td>0.0</td>\n",
       "      <td>0.0</td>\n",
       "      <td>0.0</td>\n",
       "      <td>1.0</td>\n",
       "    </tr>\n",
       "    <tr>\n",
       "      <th>behavioral_wash_hands</th>\n",
       "      <td>26665.0</td>\n",
       "      <td>0.825614</td>\n",
       "      <td>0.379448</td>\n",
       "      <td>0.0</td>\n",
       "      <td>1.0</td>\n",
       "      <td>1.0</td>\n",
       "      <td>1.0</td>\n",
       "      <td>1.0</td>\n",
       "    </tr>\n",
       "    <tr>\n",
       "      <th>behavioral_large_gatherings</th>\n",
       "      <td>26620.0</td>\n",
       "      <td>0.358640</td>\n",
       "      <td>0.479610</td>\n",
       "      <td>0.0</td>\n",
       "      <td>0.0</td>\n",
       "      <td>0.0</td>\n",
       "      <td>1.0</td>\n",
       "      <td>1.0</td>\n",
       "    </tr>\n",
       "    <tr>\n",
       "      <th>behavioral_outside_home</th>\n",
       "      <td>26625.0</td>\n",
       "      <td>0.337315</td>\n",
       "      <td>0.472802</td>\n",
       "      <td>0.0</td>\n",
       "      <td>0.0</td>\n",
       "      <td>0.0</td>\n",
       "      <td>1.0</td>\n",
       "      <td>1.0</td>\n",
       "    </tr>\n",
       "    <tr>\n",
       "      <th>behavioral_touch_face</th>\n",
       "      <td>26579.0</td>\n",
       "      <td>0.677264</td>\n",
       "      <td>0.467531</td>\n",
       "      <td>0.0</td>\n",
       "      <td>0.0</td>\n",
       "      <td>1.0</td>\n",
       "      <td>1.0</td>\n",
       "      <td>1.0</td>\n",
       "    </tr>\n",
       "    <tr>\n",
       "      <th>doctor_recc_h1n1</th>\n",
       "      <td>24547.0</td>\n",
       "      <td>0.220312</td>\n",
       "      <td>0.414466</td>\n",
       "      <td>0.0</td>\n",
       "      <td>0.0</td>\n",
       "      <td>0.0</td>\n",
       "      <td>0.0</td>\n",
       "      <td>1.0</td>\n",
       "    </tr>\n",
       "    <tr>\n",
       "      <th>doctor_recc_seasonal</th>\n",
       "      <td>24547.0</td>\n",
       "      <td>0.329735</td>\n",
       "      <td>0.470126</td>\n",
       "      <td>0.0</td>\n",
       "      <td>0.0</td>\n",
       "      <td>0.0</td>\n",
       "      <td>1.0</td>\n",
       "      <td>1.0</td>\n",
       "    </tr>\n",
       "    <tr>\n",
       "      <th>chronic_med_condition</th>\n",
       "      <td>25736.0</td>\n",
       "      <td>0.283261</td>\n",
       "      <td>0.450591</td>\n",
       "      <td>0.0</td>\n",
       "      <td>0.0</td>\n",
       "      <td>0.0</td>\n",
       "      <td>1.0</td>\n",
       "      <td>1.0</td>\n",
       "    </tr>\n",
       "    <tr>\n",
       "      <th>child_under_6_months</th>\n",
       "      <td>25887.0</td>\n",
       "      <td>0.082590</td>\n",
       "      <td>0.275266</td>\n",
       "      <td>0.0</td>\n",
       "      <td>0.0</td>\n",
       "      <td>0.0</td>\n",
       "      <td>0.0</td>\n",
       "      <td>1.0</td>\n",
       "    </tr>\n",
       "    <tr>\n",
       "      <th>health_worker</th>\n",
       "      <td>25903.0</td>\n",
       "      <td>0.111918</td>\n",
       "      <td>0.315271</td>\n",
       "      <td>0.0</td>\n",
       "      <td>0.0</td>\n",
       "      <td>0.0</td>\n",
       "      <td>0.0</td>\n",
       "      <td>1.0</td>\n",
       "    </tr>\n",
       "    <tr>\n",
       "      <th>health_insurance</th>\n",
       "      <td>14433.0</td>\n",
       "      <td>0.879720</td>\n",
       "      <td>0.325300</td>\n",
       "      <td>0.0</td>\n",
       "      <td>1.0</td>\n",
       "      <td>1.0</td>\n",
       "      <td>1.0</td>\n",
       "      <td>1.0</td>\n",
       "    </tr>\n",
       "    <tr>\n",
       "      <th>opinion_h1n1_vacc_effective</th>\n",
       "      <td>26316.0</td>\n",
       "      <td>3.850623</td>\n",
       "      <td>1.007436</td>\n",
       "      <td>1.0</td>\n",
       "      <td>3.0</td>\n",
       "      <td>4.0</td>\n",
       "      <td>5.0</td>\n",
       "      <td>5.0</td>\n",
       "    </tr>\n",
       "    <tr>\n",
       "      <th>opinion_h1n1_risk</th>\n",
       "      <td>26319.0</td>\n",
       "      <td>2.342566</td>\n",
       "      <td>1.285539</td>\n",
       "      <td>1.0</td>\n",
       "      <td>1.0</td>\n",
       "      <td>2.0</td>\n",
       "      <td>4.0</td>\n",
       "      <td>5.0</td>\n",
       "    </tr>\n",
       "    <tr>\n",
       "      <th>opinion_h1n1_sick_from_vacc</th>\n",
       "      <td>26312.0</td>\n",
       "      <td>2.357670</td>\n",
       "      <td>1.362766</td>\n",
       "      <td>1.0</td>\n",
       "      <td>1.0</td>\n",
       "      <td>2.0</td>\n",
       "      <td>4.0</td>\n",
       "      <td>5.0</td>\n",
       "    </tr>\n",
       "    <tr>\n",
       "      <th>opinion_seas_vacc_effective</th>\n",
       "      <td>26245.0</td>\n",
       "      <td>4.025986</td>\n",
       "      <td>1.086565</td>\n",
       "      <td>1.0</td>\n",
       "      <td>4.0</td>\n",
       "      <td>4.0</td>\n",
       "      <td>5.0</td>\n",
       "      <td>5.0</td>\n",
       "    </tr>\n",
       "    <tr>\n",
       "      <th>opinion_seas_risk</th>\n",
       "      <td>26193.0</td>\n",
       "      <td>2.719162</td>\n",
       "      <td>1.385055</td>\n",
       "      <td>1.0</td>\n",
       "      <td>2.0</td>\n",
       "      <td>2.0</td>\n",
       "      <td>4.0</td>\n",
       "      <td>5.0</td>\n",
       "    </tr>\n",
       "    <tr>\n",
       "      <th>opinion_seas_sick_from_vacc</th>\n",
       "      <td>26170.0</td>\n",
       "      <td>2.118112</td>\n",
       "      <td>1.332950</td>\n",
       "      <td>1.0</td>\n",
       "      <td>1.0</td>\n",
       "      <td>2.0</td>\n",
       "      <td>4.0</td>\n",
       "      <td>5.0</td>\n",
       "    </tr>\n",
       "    <tr>\n",
       "      <th>household_adults</th>\n",
       "      <td>26458.0</td>\n",
       "      <td>0.886499</td>\n",
       "      <td>0.753422</td>\n",
       "      <td>0.0</td>\n",
       "      <td>0.0</td>\n",
       "      <td>1.0</td>\n",
       "      <td>1.0</td>\n",
       "      <td>3.0</td>\n",
       "    </tr>\n",
       "    <tr>\n",
       "      <th>household_children</th>\n",
       "      <td>26458.0</td>\n",
       "      <td>0.534583</td>\n",
       "      <td>0.928173</td>\n",
       "      <td>0.0</td>\n",
       "      <td>0.0</td>\n",
       "      <td>0.0</td>\n",
       "      <td>1.0</td>\n",
       "      <td>3.0</td>\n",
       "    </tr>\n",
       "  </tbody>\n",
       "</table>\n",
       "</div>"
      ],
      "text/plain": [
       "                               count      mean       std  min  25%  50%  75%  \\\n",
       "h1n1_concern                 26615.0  1.618486  0.910311  0.0  1.0  2.0  2.0   \n",
       "h1n1_knowledge               26591.0  1.262532  0.618149  0.0  1.0  1.0  2.0   \n",
       "behavioral_antiviral_meds    26636.0  0.048844  0.215545  0.0  0.0  0.0  0.0   \n",
       "behavioral_avoidance         26499.0  0.725612  0.446214  0.0  0.0  1.0  1.0   \n",
       "behavioral_face_mask         26688.0  0.068982  0.253429  0.0  0.0  0.0  0.0   \n",
       "behavioral_wash_hands        26665.0  0.825614  0.379448  0.0  1.0  1.0  1.0   \n",
       "behavioral_large_gatherings  26620.0  0.358640  0.479610  0.0  0.0  0.0  1.0   \n",
       "behavioral_outside_home      26625.0  0.337315  0.472802  0.0  0.0  0.0  1.0   \n",
       "behavioral_touch_face        26579.0  0.677264  0.467531  0.0  0.0  1.0  1.0   \n",
       "doctor_recc_h1n1             24547.0  0.220312  0.414466  0.0  0.0  0.0  0.0   \n",
       "doctor_recc_seasonal         24547.0  0.329735  0.470126  0.0  0.0  0.0  1.0   \n",
       "chronic_med_condition        25736.0  0.283261  0.450591  0.0  0.0  0.0  1.0   \n",
       "child_under_6_months         25887.0  0.082590  0.275266  0.0  0.0  0.0  0.0   \n",
       "health_worker                25903.0  0.111918  0.315271  0.0  0.0  0.0  0.0   \n",
       "health_insurance             14433.0  0.879720  0.325300  0.0  1.0  1.0  1.0   \n",
       "opinion_h1n1_vacc_effective  26316.0  3.850623  1.007436  1.0  3.0  4.0  5.0   \n",
       "opinion_h1n1_risk            26319.0  2.342566  1.285539  1.0  1.0  2.0  4.0   \n",
       "opinion_h1n1_sick_from_vacc  26312.0  2.357670  1.362766  1.0  1.0  2.0  4.0   \n",
       "opinion_seas_vacc_effective  26245.0  4.025986  1.086565  1.0  4.0  4.0  5.0   \n",
       "opinion_seas_risk            26193.0  2.719162  1.385055  1.0  2.0  2.0  4.0   \n",
       "opinion_seas_sick_from_vacc  26170.0  2.118112  1.332950  1.0  1.0  2.0  4.0   \n",
       "household_adults             26458.0  0.886499  0.753422  0.0  0.0  1.0  1.0   \n",
       "household_children           26458.0  0.534583  0.928173  0.0  0.0  0.0  1.0   \n",
       "\n",
       "                             max  \n",
       "h1n1_concern                 3.0  \n",
       "h1n1_knowledge               2.0  \n",
       "behavioral_antiviral_meds    1.0  \n",
       "behavioral_avoidance         1.0  \n",
       "behavioral_face_mask         1.0  \n",
       "behavioral_wash_hands        1.0  \n",
       "behavioral_large_gatherings  1.0  \n",
       "behavioral_outside_home      1.0  \n",
       "behavioral_touch_face        1.0  \n",
       "doctor_recc_h1n1             1.0  \n",
       "doctor_recc_seasonal         1.0  \n",
       "chronic_med_condition        1.0  \n",
       "child_under_6_months         1.0  \n",
       "health_worker                1.0  \n",
       "health_insurance             1.0  \n",
       "opinion_h1n1_vacc_effective  5.0  \n",
       "opinion_h1n1_risk            5.0  \n",
       "opinion_h1n1_sick_from_vacc  5.0  \n",
       "opinion_seas_vacc_effective  5.0  \n",
       "opinion_seas_risk            5.0  \n",
       "opinion_seas_sick_from_vacc  5.0  \n",
       "household_adults             3.0  \n",
       "household_children           3.0  "
      ]
     },
     "execution_count": 9,
     "metadata": {},
     "output_type": "execute_result"
    }
   ],
   "source": [
    "train_data.select_dtypes(include=\"float64\").describe().T"
   ]
  },
  {
   "cell_type": "markdown",
   "metadata": {},
   "source": [
    "## <u>Task (3.2). Look at one Cell below.</u>"
   ]
  },
  {
   "cell_type": "code",
   "execution_count": 10,
   "metadata": {},
   "outputs": [],
   "source": [
    "# Fill in Nans in float columns with median values because it is the best approximation\n",
    "# when you work with descrete variables and do not want to lose information dropping rows:\n",
    "\n",
    "float_cols = train_data.select_dtypes(include=\"float64\").columns\n",
    "float_medians = train_data[float_cols].median()\n",
    "\n",
    "train_data[float_cols] = train_data[float_cols].fillna(float_medians)"
   ]
  },
  {
   "cell_type": "code",
   "execution_count": 11,
   "metadata": {},
   "outputs": [
    {
     "data": {
      "text/html": [
       "<div>\n",
       "<style scoped>\n",
       "    .dataframe tbody tr th:only-of-type {\n",
       "        vertical-align: middle;\n",
       "    }\n",
       "\n",
       "    .dataframe tbody tr th {\n",
       "        vertical-align: top;\n",
       "    }\n",
       "\n",
       "    .dataframe thead th {\n",
       "        text-align: right;\n",
       "    }\n",
       "</style>\n",
       "<table border=\"1\" class=\"dataframe\">\n",
       "  <thead>\n",
       "    <tr style=\"text-align: right;\">\n",
       "      <th></th>\n",
       "      <th>count</th>\n",
       "      <th>unique</th>\n",
       "      <th>top</th>\n",
       "      <th>freq</th>\n",
       "    </tr>\n",
       "  </thead>\n",
       "  <tbody>\n",
       "    <tr>\n",
       "      <th>age_group</th>\n",
       "      <td>26707</td>\n",
       "      <td>5</td>\n",
       "      <td>65+ Years</td>\n",
       "      <td>6843</td>\n",
       "    </tr>\n",
       "    <tr>\n",
       "      <th>education</th>\n",
       "      <td>25300</td>\n",
       "      <td>4</td>\n",
       "      <td>College Graduate</td>\n",
       "      <td>10097</td>\n",
       "    </tr>\n",
       "    <tr>\n",
       "      <th>race</th>\n",
       "      <td>26707</td>\n",
       "      <td>4</td>\n",
       "      <td>White</td>\n",
       "      <td>21222</td>\n",
       "    </tr>\n",
       "    <tr>\n",
       "      <th>sex</th>\n",
       "      <td>26707</td>\n",
       "      <td>2</td>\n",
       "      <td>Female</td>\n",
       "      <td>15858</td>\n",
       "    </tr>\n",
       "    <tr>\n",
       "      <th>income_poverty</th>\n",
       "      <td>22284</td>\n",
       "      <td>3</td>\n",
       "      <td>&lt;= $75,000, Above Poverty</td>\n",
       "      <td>12777</td>\n",
       "    </tr>\n",
       "    <tr>\n",
       "      <th>marital_status</th>\n",
       "      <td>25299</td>\n",
       "      <td>2</td>\n",
       "      <td>Married</td>\n",
       "      <td>13555</td>\n",
       "    </tr>\n",
       "    <tr>\n",
       "      <th>rent_or_own</th>\n",
       "      <td>24665</td>\n",
       "      <td>2</td>\n",
       "      <td>Own</td>\n",
       "      <td>18736</td>\n",
       "    </tr>\n",
       "    <tr>\n",
       "      <th>employment_status</th>\n",
       "      <td>25244</td>\n",
       "      <td>3</td>\n",
       "      <td>Employed</td>\n",
       "      <td>13560</td>\n",
       "    </tr>\n",
       "    <tr>\n",
       "      <th>hhs_geo_region</th>\n",
       "      <td>26707</td>\n",
       "      <td>10</td>\n",
       "      <td>lzgpxyit</td>\n",
       "      <td>4297</td>\n",
       "    </tr>\n",
       "    <tr>\n",
       "      <th>census_msa</th>\n",
       "      <td>26707</td>\n",
       "      <td>3</td>\n",
       "      <td>MSA, Not Principle  City</td>\n",
       "      <td>11645</td>\n",
       "    </tr>\n",
       "    <tr>\n",
       "      <th>employment_industry</th>\n",
       "      <td>13377</td>\n",
       "      <td>21</td>\n",
       "      <td>fcxhlnwr</td>\n",
       "      <td>2468</td>\n",
       "    </tr>\n",
       "    <tr>\n",
       "      <th>employment_occupation</th>\n",
       "      <td>13237</td>\n",
       "      <td>23</td>\n",
       "      <td>xtkaffoo</td>\n",
       "      <td>1778</td>\n",
       "    </tr>\n",
       "  </tbody>\n",
       "</table>\n",
       "</div>"
      ],
      "text/plain": [
       "                       count unique                        top   freq\n",
       "age_group              26707      5                  65+ Years   6843\n",
       "education              25300      4           College Graduate  10097\n",
       "race                   26707      4                      White  21222\n",
       "sex                    26707      2                     Female  15858\n",
       "income_poverty         22284      3  <= $75,000, Above Poverty  12777\n",
       "marital_status         25299      2                    Married  13555\n",
       "rent_or_own            24665      2                        Own  18736\n",
       "employment_status      25244      3                   Employed  13560\n",
       "hhs_geo_region         26707     10                   lzgpxyit   4297\n",
       "census_msa             26707      3   MSA, Not Principle  City  11645\n",
       "employment_industry    13377     21                   fcxhlnwr   2468\n",
       "employment_occupation  13237     23                   xtkaffoo   1778"
      ]
     },
     "execution_count": 11,
     "metadata": {},
     "output_type": "execute_result"
    }
   ],
   "source": [
    "train_data.select_dtypes(include=\"object\").describe().T"
   ]
  },
  {
   "cell_type": "code",
   "execution_count": 12,
   "metadata": {},
   "outputs": [],
   "source": [
    "def bar_plot_value_counts(df, column, title):\n",
    "    \"\"\"\n",
    "        Helper function to plot some results\n",
    "    \"\"\"\n",
    "\n",
    "    df[column].value_counts().plot(kind='bar')\n",
    "    plt.xticks(rotation=45)\n",
    "    plt.title(title)"
   ]
  },
  {
   "cell_type": "markdown",
   "metadata": {},
   "source": [
    "### <u>\"age_group\":</u>\n",
    "### We have all the data, hence we will make it dummy_vals."
   ]
  },
  {
   "cell_type": "code",
   "execution_count": 44,
   "metadata": {},
   "outputs": [
    {
     "data": {
      "image/png": "[encoded data removed]",
      "text/plain": [
       "<Figure size 432x288 with 1 Axes>"
      ]
     },
     "metadata": {},
     "output_type": "display_data"
    }
   ],
   "source": [
    "bar_plot_value_counts(train_data, \"age_group\", \"Age groups\")"
   ]
  },
  {
   "cell_type": "markdown",
   "metadata": {},
   "source": [
    "### <u>\"education\":</u>\n",
    "### We need to fill in NaNs in some way."
   ]
  },
  {
   "cell_type": "code",
   "execution_count": 45,
   "metadata": {},
   "outputs": [
    {
     "data": {
      "image/png": "[encoded data removed]",
      "text/plain": [
       "<Figure size 432x288 with 1 Axes>"
      ]
     },
     "metadata": {},
     "output_type": "display_data"
    }
   ],
   "source": [
    "bar_plot_value_counts(train_data, \"education\", \"Education\")"
   ]
  },
  {
   "cell_type": "code",
   "execution_count": 46,
   "metadata": {},
   "outputs": [
    {
     "data": {
      "text/plain": [
       "age_group\n",
       "18 - 34 Years    College Graduate\n",
       "35 - 44 Years    College Graduate\n",
       "45 - 54 Years    College Graduate\n",
       "55 - 64 Years    College Graduate\n",
       "65+ Years        College Graduate\n",
       "dtype: object"
      ]
     },
     "execution_count": 46,
     "metadata": {},
     "output_type": "execute_result"
    }
   ],
   "source": [
    "train_data.groupby(\"age_group\").apply(lambda x: x[\"education\"].value_counts().idxmax())"
   ]
  },
  {
   "cell_type": "markdown",
   "metadata": {},
   "source": [
    "## <u>Task (3.2). Look at one Cell below.</u>"
   ]
  },
  {
   "cell_type": "code",
   "execution_count": 47,
   "metadata": {},
   "outputs": [],
   "source": [
    "# We will map Nans to one of the educational classes based on age_group\n",
    "# because there is correlation between education level and age;\n",
    "# and it is better than to drop rows or fill Nans with one predefined value\n",
    "\n",
    "age_group2education = (\n",
    "    train_data.groupby(\"age_group\")\n",
    "    .apply(lambda x: x[\"education\"].value_counts().idxmax())\n",
    ")\n",
    "\n",
    "mask = train_data[\"education\"].isna()\n",
    "train_data[\"education\"][mask] = train_data[\"age_group\"][mask].apply(lambda x: age_group2education[x])"
   ]
  },
  {
   "cell_type": "markdown",
   "metadata": {},
   "source": [
    "### \"race\" and \"sex\":\n",
    "### We have all the data, hence we will make it dummy_vals:"
   ]
  },
  {
   "cell_type": "code",
   "execution_count": 48,
   "metadata": {},
   "outputs": [
    {
     "data": {
      "image/png": "[encoded data removed]",
      "text/plain": [
       "<Figure size 432x288 with 1 Axes>"
      ]
     },
     "metadata": {},
     "output_type": "display_data"
    }
   ],
   "source": [
    "bar_plot_value_counts(train_data, \"race\", \"Race\")"
   ]
  },
  {
   "cell_type": "code",
   "execution_count": 49,
   "metadata": {},
   "outputs": [
    {
     "data": {
      "image/png": "[encoded data removed]",
      "text/plain": [
       "<Figure size 432x288 with 1 Axes>"
      ]
     },
     "metadata": {},
     "output_type": "display_data"
    }
   ],
   "source": [
    "bar_plot_value_counts(train_data, \"sex\", \"Sex\")"
   ]
  },
  {
   "cell_type": "markdown",
   "metadata": {},
   "source": [
    "### \"income_poverty\":\n",
    "### We need to fill in NaNs in some way."
   ]
  },
  {
   "cell_type": "code",
   "execution_count": 50,
   "metadata": {},
   "outputs": [
    {
     "data": {
      "image/png": "[encoded data removed]",
      "text/plain": [
       "<Figure size 432x288 with 1 Axes>"
      ]
     },
     "metadata": {},
     "output_type": "display_data"
    }
   ],
   "source": [
    "bar_plot_value_counts(train_data, \"income_poverty\", \"Income poverty\")"
   ]
  },
  {
   "cell_type": "code",
   "execution_count": 51,
   "metadata": {},
   "outputs": [
    {
     "data": {
      "text/plain": [
       "education\n",
       "12 Years            <= $75,000, Above Poverty\n",
       "< 12 Years          <= $75,000, Above Poverty\n",
       "College Graduate                    > $75,000\n",
       "Some College        <= $75,000, Above Poverty\n",
       "dtype: object"
      ]
     },
     "execution_count": 51,
     "metadata": {},
     "output_type": "execute_result"
    }
   ],
   "source": [
    "train_data.groupby(\"education\").apply(lambda x: x[\"income_poverty\"].value_counts().idxmax())"
   ]
  },
  {
   "cell_type": "markdown",
   "metadata": {},
   "source": [
    "## <u>Task (3.2). Look at one Cell below.</u>"
   ]
  },
  {
   "cell_type": "code",
   "execution_count": 52,
   "metadata": {},
   "outputs": [],
   "source": [
    "# We will map Nans to one of the income classes based on education\n",
    "# because there is correlation between education level and income;\n",
    "# and it is better than to drop rows or fill Nans with one predefined value\n",
    "\n",
    "education2income = (\n",
    "    train_data.groupby(\"education\")\n",
    "    .apply(lambda x: x[\"income_poverty\"].value_counts().idxmax())\n",
    ")\n",
    "\n",
    "mask = train_data[\"income_poverty\"].isna()\n",
    "train_data[\"income_poverty\"][mask] = train_data[\"education\"][mask].apply(lambda x: education2income[x])"
   ]
  },
  {
   "cell_type": "markdown",
   "metadata": {},
   "source": [
    "### \"marital_status\":\n",
    "### We need to fill in NaNs in some way."
   ]
  },
  {
   "cell_type": "code",
   "execution_count": 53,
   "metadata": {},
   "outputs": [
    {
     "data": {
      "image/png": "[encoded data removed]",
      "text/plain": [
       "<Figure size 432x288 with 1 Axes>"
      ]
     },
     "metadata": {},
     "output_type": "display_data"
    }
   ],
   "source": [
    "bar_plot_value_counts(train_data, \"marital_status\", \"Marital status\")"
   ]
  },
  {
   "cell_type": "code",
   "execution_count": 54,
   "metadata": {},
   "outputs": [
    {
     "data": {
      "text/plain": [
       "age_group\n",
       "18 - 34 Years    Not Married\n",
       "35 - 44 Years        Married\n",
       "45 - 54 Years        Married\n",
       "55 - 64 Years        Married\n",
       "65+ Years        Not Married\n",
       "dtype: object"
      ]
     },
     "execution_count": 54,
     "metadata": {},
     "output_type": "execute_result"
    }
   ],
   "source": [
    "(\n",
    "    train_data.groupby([\"age_group\"])\n",
    "    .apply(lambda x: x[\"marital_status\"].value_counts().idxmax())\n",
    ")"
   ]
  },
  {
   "cell_type": "markdown",
   "metadata": {},
   "source": [
    "## <u>Task (3.2). Look at one Cell below.</u>"
   ]
  },
  {
   "cell_type": "code",
   "execution_count": 55,
   "metadata": {},
   "outputs": [],
   "source": [
    "# We will map Nans to one of the marital statuses based on age group\n",
    "# because there is correlation between marital status and age;\n",
    "# and it is better than to drop rows or fill Nans with one predefined value\n",
    "\n",
    "age_group2marital_stat = (\n",
    "    train_data.groupby([\"age_group\"])\n",
    "    .apply(lambda x: x[\"marital_status\"].value_counts().idxmax())\n",
    ")\n",
    "\n",
    "mask = train_data[\"marital_status\"].isna()\n",
    "train_data[\"marital_status\"][mask] = train_data[\"age_group\"][mask].apply(lambda x: age_group2marital_stat[x])"
   ]
  },
  {
   "cell_type": "markdown",
   "metadata": {},
   "source": [
    "### \"rent_or_own\":\n",
    "### We need to fill in NaNs in some way."
   ]
  },
  {
   "cell_type": "code",
   "execution_count": 56,
   "metadata": {},
   "outputs": [
    {
     "data": {
      "image/png": "[encoded data removed]",
      "text/plain": [
       "<Figure size 432x288 with 1 Axes>"
      ]
     },
     "metadata": {},
     "output_type": "display_data"
    }
   ],
   "source": [
    "bar_plot_value_counts(train_data, \"rent_or_own\", \"Rent/Own\")"
   ]
  },
  {
   "cell_type": "code",
   "execution_count": 57,
   "metadata": {},
   "outputs": [
    {
     "data": {
      "text/plain": [
       "age_group\n",
       "18 - 34 Years    Own\n",
       "35 - 44 Years    Own\n",
       "45 - 54 Years    Own\n",
       "55 - 64 Years    Own\n",
       "65+ Years        Own\n",
       "dtype: object"
      ]
     },
     "execution_count": 57,
     "metadata": {},
     "output_type": "execute_result"
    }
   ],
   "source": [
    "(\n",
    "    train_data.groupby([\"age_group\"])\n",
    "    .apply(lambda x: x[\"rent_or_own\"].value_counts().idxmax())\n",
    ")"
   ]
  },
  {
   "cell_type": "markdown",
   "metadata": {},
   "source": [
    "## <u>Task (3.2). Look at one Cell below.</u>"
   ]
  },
  {
   "cell_type": "code",
   "execution_count": 58,
   "metadata": {},
   "outputs": [],
   "source": [
    "# We will map Nans to one of the rent statuses based on age group\n",
    "# because there is correlation between possibility to rent/own and age;\n",
    "# and it is better than to drop rows or fill Nans with one predefined value\n",
    "\n",
    "age_group2rent_own = (\n",
    "    train_data.groupby([\"age_group\"])\n",
    "    .apply(lambda x: x[\"rent_or_own\"].value_counts().idxmax())\n",
    ")\n",
    "\n",
    "mask = train_data[\"rent_or_own\"].isna()\n",
    "train_data[\"rent_or_own\"][mask] = train_data[\"age_group\"][mask].apply(lambda x: age_group2rent_own[x])"
   ]
  },
  {
   "cell_type": "markdown",
   "metadata": {},
   "source": [
    "### \"employment_status\":\n",
    "### We need to fill in NaNs in some way."
   ]
  },
  {
   "cell_type": "code",
   "execution_count": 59,
   "metadata": {},
   "outputs": [
    {
     "data": {
      "image/png": "[encoded data removed]",
      "text/plain": [
       "<Figure size 432x288 with 1 Axes>"
      ]
     },
     "metadata": {},
     "output_type": "display_data"
    }
   ],
   "source": [
    "bar_plot_value_counts(train_data, \"employment_status\", \"Employment status\")"
   ]
  },
  {
   "cell_type": "code",
   "execution_count": 60,
   "metadata": {},
   "outputs": [
    {
     "data": {
      "text/plain": [
       "age_group\n",
       "18 - 34 Years              Employed\n",
       "35 - 44 Years              Employed\n",
       "45 - 54 Years              Employed\n",
       "55 - 64 Years              Employed\n",
       "65+ Years        Not in Labor Force\n",
       "dtype: object"
      ]
     },
     "execution_count": 60,
     "metadata": {},
     "output_type": "execute_result"
    }
   ],
   "source": [
    "(\n",
    "    train_data.groupby([\"age_group\"])\n",
    "    .apply(lambda x: x[\"employment_status\"].value_counts().idxmax())\n",
    ")"
   ]
  },
  {
   "cell_type": "markdown",
   "metadata": {},
   "source": [
    "## <u>Task (3.2). Look at one Cell below.</u>"
   ]
  },
  {
   "cell_type": "code",
   "execution_count": 61,
   "metadata": {},
   "outputs": [],
   "source": [
    "# We will map Nans to one of the employment statuses based on age group\n",
    "# because there is correlation between employment status  and age;\n",
    "# and it is better than to drop rows or fill Nans with one predefined value\n",
    "\n",
    "\n",
    "age_group2emp_stat = (\n",
    "    train_data.groupby([\"age_group\"])\n",
    "    .apply(lambda x: x[\"employment_status\"].value_counts().idxmax())\n",
    ")\n",
    "\n",
    "mask = train_data[\"employment_status\"].isna()\n",
    "train_data[\"employment_status\"][mask] = train_data[\"age_group\"][mask].apply(lambda x: age_group2emp_stat[x])"
   ]
  },
  {
   "cell_type": "markdown",
   "metadata": {},
   "source": [
    "### \"employment_industry\" and \"employment_occupation\":\n",
    "### Just waste, we will drop them."
   ]
  },
  {
   "cell_type": "code",
   "execution_count": 62,
   "metadata": {},
   "outputs": [
    {
     "data": {
      "text/plain": [
       "fcxhlnwr    2468\n",
       "wxleyezf    1804\n",
       "ldnlellj    1231\n",
       "Name: employment_industry, dtype: int64"
      ]
     },
     "execution_count": 62,
     "metadata": {},
     "output_type": "execute_result"
    }
   ],
   "source": [
    "train_data[\"employment_industry\"].value_counts().head(3)"
   ]
  },
  {
   "cell_type": "code",
   "execution_count": 63,
   "metadata": {},
   "outputs": [
    {
     "data": {
      "text/plain": [
       "xtkaffoo    1778\n",
       "mxkfnird    1509\n",
       "emcorrxb    1270\n",
       "Name: employment_occupation, dtype: int64"
      ]
     },
     "execution_count": 63,
     "metadata": {},
     "output_type": "execute_result"
    }
   ],
   "source": [
    "train_data[\"employment_occupation\"].value_counts().head(3)"
   ]
  },
  {
   "cell_type": "code",
   "execution_count": 64,
   "metadata": {},
   "outputs": [
    {
     "data": {
      "text/plain": [
       "lzgpxyit    4297\n",
       "fpwskwrf    3265\n",
       "qufhixun    3102\n",
       "Name: hhs_geo_region, dtype: int64"
      ]
     },
     "execution_count": 64,
     "metadata": {},
     "output_type": "execute_result"
    }
   ],
   "source": [
    "train_data[\"hhs_geo_region\"].value_counts().head(3)"
   ]
  },
  {
   "cell_type": "code",
   "execution_count": 65,
   "metadata": {},
   "outputs": [],
   "source": [
    "train_data = train_data.drop(columns=[\"employment_industry\", \"employment_occupation\", \"hhs_geo_region\"])"
   ]
  },
  {
   "cell_type": "code",
   "execution_count": 66,
   "metadata": {},
   "outputs": [
    {
     "data": {
      "text/plain": [
       "26707"
      ]
     },
     "execution_count": 66,
     "metadata": {},
     "output_type": "execute_result"
    }
   ],
   "source": [
    "train_data.count().min()"
   ]
  },
  {
   "cell_type": "markdown",
   "metadata": {},
   "source": [
    "### Labels:"
   ]
  },
  {
   "cell_type": "code",
   "execution_count": 67,
   "metadata": {},
   "outputs": [
    {
     "data": {
      "text/html": [
       "<div>\n",
       "<style scoped>\n",
       "    .dataframe tbody tr th:only-of-type {\n",
       "        vertical-align: middle;\n",
       "    }\n",
       "\n",
       "    .dataframe tbody tr th {\n",
       "        vertical-align: top;\n",
       "    }\n",
       "\n",
       "    .dataframe thead th {\n",
       "        text-align: right;\n",
       "    }\n",
       "</style>\n",
       "<table border=\"1\" class=\"dataframe\">\n",
       "  <thead>\n",
       "    <tr style=\"text-align: right;\">\n",
       "      <th></th>\n",
       "      <th>count</th>\n",
       "      <th>mean</th>\n",
       "      <th>std</th>\n",
       "      <th>min</th>\n",
       "      <th>25%</th>\n",
       "      <th>50%</th>\n",
       "      <th>75%</th>\n",
       "      <th>max</th>\n",
       "    </tr>\n",
       "  </thead>\n",
       "  <tbody>\n",
       "    <tr>\n",
       "      <th>h1n1_vaccine</th>\n",
       "      <td>26707.0</td>\n",
       "      <td>0.212454</td>\n",
       "      <td>0.409052</td>\n",
       "      <td>0.0</td>\n",
       "      <td>0.0</td>\n",
       "      <td>0.0</td>\n",
       "      <td>0.0</td>\n",
       "      <td>1.0</td>\n",
       "    </tr>\n",
       "    <tr>\n",
       "      <th>seasonal_vaccine</th>\n",
       "      <td>26707.0</td>\n",
       "      <td>0.465608</td>\n",
       "      <td>0.498825</td>\n",
       "      <td>0.0</td>\n",
       "      <td>0.0</td>\n",
       "      <td>0.0</td>\n",
       "      <td>1.0</td>\n",
       "      <td>1.0</td>\n",
       "    </tr>\n",
       "  </tbody>\n",
       "</table>\n",
       "</div>"
      ],
      "text/plain": [
       "                    count      mean       std  min  25%  50%  75%  max\n",
       "h1n1_vaccine      26707.0  0.212454  0.409052  0.0  0.0  0.0  0.0  1.0\n",
       "seasonal_vaccine  26707.0  0.465608  0.498825  0.0  0.0  0.0  1.0  1.0"
      ]
     },
     "execution_count": 67,
     "metadata": {},
     "output_type": "execute_result"
    }
   ],
   "source": [
    "train_target.describe().T"
   ]
  },
  {
   "cell_type": "markdown",
   "metadata": {},
   "source": [
    "## <u>Task (3.4). Look at one Cell below.</u>"
   ]
  },
  {
   "cell_type": "code",
   "execution_count": 68,
   "metadata": {},
   "outputs": [],
   "source": [
    "# We divide multilabel target into 2 distinct targets to be able to experiment simultaneously.\n",
    "# Besides we think that it would help us to find more accurate model as a combination of 2 separate ones\n",
    "\n",
    "train_target = train_target[\"seasonal_vaccine\"]\n",
    "train_target_h1n1 = train_target[\"h1n1_vaccine\"]"
   ]
  },
  {
   "cell_type": "markdown",
   "metadata": {},
   "source": [
    "## *Create some features:*"
   ]
  },
  {
   "cell_type": "markdown",
   "metadata": {},
   "source": [
    "### dummy features:"
   ]
  },
  {
   "cell_type": "markdown",
   "metadata": {},
   "source": [
    "## <u>Task (3.1). Look at the next 2 Cells below.</u>"
   ]
  },
  {
   "cell_type": "code",
   "execution_count": 69,
   "metadata": {},
   "outputs": [
    {
     "data": {
      "text/plain": [
       "28"
      ]
     },
     "execution_count": 69,
     "metadata": {},
     "output_type": "execute_result"
    }
   ],
   "source": [
    "dummy_cols = train_data.select_dtypes(include=\"object\").columns.tolist()\n",
    "train_data[dummy_cols].nunique().sum()"
   ]
  },
  {
   "cell_type": "code",
   "execution_count": 70,
   "metadata": {},
   "outputs": [],
   "source": [
    "train_data = pd.concat([train_data, pd.get_dummies(train_data[dummy_cols])], axis=1)\n",
    "train_data = train_data.drop(columns=dummy_cols)"
   ]
  },
  {
   "cell_type": "markdown",
   "metadata": {},
   "source": [
    "### custom features:"
   ]
  },
  {
   "cell_type": "markdown",
   "metadata": {},
   "source": [
    "## <u>Task (3.3). Look at the next 2 Cells below.</u>"
   ]
  },
  {
   "cell_type": "code",
   "execution_count": null,
   "metadata": {},
   "outputs": [],
   "source": []
  },
  {
   "cell_type": "markdown",
   "metadata": {},
   "source": [
    "# **Make baselines:**"
   ]
  },
  {
   "cell_type": "markdown",
   "metadata": {},
   "source": [
    "### split the data on train and test:"
   ]
  },
  {
   "cell_type": "code",
   "execution_count": 71,
   "metadata": {},
   "outputs": [
    {
     "data": {
      "text/plain": [
       "0.3000336990302168"
      ]
     },
     "execution_count": 71,
     "metadata": {},
     "output_type": "execute_result"
    }
   ],
   "source": [
    "x_train, x_test, y_train, y_test = train_test_split(\n",
    "    train_data, train_target, test_size=0.3,\n",
    "    random_state=42, shuffle=True,\n",
    "    stratify=train_target,\n",
    ")\n",
    "\n",
    "x_test.shape[0]/train_data.shape[0]"
   ]
  },
  {
   "cell_type": "markdown",
   "metadata": {},
   "source": [
    "### Logistic Regression:"
   ]
  },
  {
   "cell_type": "code",
   "execution_count": 72,
   "metadata": {},
   "outputs": [
    {
     "name": "stdout",
     "output_type": "stream",
     "text": [
      "Fitting 5 folds for each of 675 candidates, totalling 3375 fits\n"
     ]
    }
   ],
   "source": [
    "estimators = [\n",
    "    ('reduce_dim', PCA()),\n",
    "    ('scaler', StandardScaler()),\n",
    "    ('lr', LogisticRegression(max_iter=5000, random_state=42)),\n",
    "]\n",
    "\n",
    "param_grid = {\n",
    "    'reduce_dim__n_components': [i for i in range(5, 50)],\n",
    "    'lr__C': [\n",
    "        0.001, 0.005, 0.01, 0.05, 0.1, 0.15,\n",
    "        0.2, 0.3, 0.4, 0.5, 0.6, 0.7, 0.8, 0.9, 1\n",
    "    ],\n",
    "}\n",
    "\n",
    "pipe = Pipeline(steps=estimators)\n",
    "clf = GridSearchCV(pipe, param_grid, cv=5, scoring='roc_auc', n_jobs=-1, verbose=1)\n",
    "clf.fit(x_train, y_train)\n",
    "print(\"Best parameter (CV score=%0.3f):\" % clf.best_score_)\n",
    "print(clf.best_params_)\n",
    "\n",
    "clf.best_estimator_.fit(x_train, y_train)\n",
    "pred = clf.best_estimator_.predict_proba(x_test)\n",
    "print(f\"Final roc_auc_score = {roc_auc_score(y_test, pred[:, 1])}\")\n"
   ]
  },
  {
   "cell_type": "markdown",
   "metadata": {},
   "source": [
    "### K-Nearest Neighbours:"
   ]
  },
  {
   "cell_type": "code",
   "execution_count": null,
   "metadata": {},
   "outputs": [
    {
     "name": "stdout",
     "output_type": "stream",
     "text": [
      "Fitting 5 folds for each of 120 candidates, totalling 600 fits\n",
      "Best parameter (CV score=0.809):\n",
      "{'knn__n_neighbors': 30, 'knn__p': 2, 'knn__weights': 'uniform', 'reduce_dim__n_components': 20}\n",
      "Final roc_auc_score = 0.8076243626277232\n"
     ]
    }
   ],
   "source": [
    "estimators = [\n",
    "    ('reduce_dim', PCA()),\n",
    "    ('scaler', StandardScaler()),\n",
    "    ('knn', KNeighborsClassifier()),\n",
    "]\n",
    "\n",
    "param_grid = {\n",
    "    'reduce_dim__n_components': [10, 20, 30, 40, 50],\n",
    "    'knn__n_neighbors': [5, 10, 20, 30],\n",
    "    'knn__weights': ['uniform', 'distance'],\n",
    "    'knn__p': [1, 2, 3],\n",
    "}\n",
    "\n",
    "pipe = Pipeline(steps=estimators)\n",
    "clf = GridSearchCV(pipe, param_grid, cv=5, scoring='roc_auc', n_jobs=-1, verbose=1)\n",
    "clf.fit(x_train, y_train)\n",
    "print(\"Best parameter (CV score=%0.3f):\" % clf.best_score_)\n",
    "print(clf.best_params_)\n",
    "\n",
    "clf.best_estimator_.fit(x_train, y_train)\n",
    "pred = clf.best_estimator_.predict_proba(x_test)\n",
    "print(f\"Final roc_auc_score = {roc_auc_score(y_test, pred[:, 1])}\")"
   ]
  },
  {
   "cell_type": "markdown",
   "metadata": {},
   "source": [
    "### Decision Tree:"
   ]
  },
  {
   "cell_type": "code",
   "execution_count": null,
   "metadata": {},
   "outputs": [
    {
     "name": "stdout",
     "output_type": "stream",
     "text": [
      "Fitting 5 folds for each of 32 candidates, totalling 160 fits\n",
      "Best parameter (CV score=0.776):\n",
      "{'dtc__max_depth': 5, 'dtc__max_features': 20, 'reduce_dim__n_components': 40}\n",
      "Final roc_auc_score = 0.7679121780464896\n"
     ]
    }
   ],
   "source": [
    "estimators = [\n",
    "    ('reduce_dim', PCA()),\n",
    "    ('scaler', StandardScaler()),\n",
    "    ('dtc', DecisionTreeClassifier(random_state=42)),\n",
    "]\n",
    "\n",
    "param_grid = {\n",
    "    'reduce_dim__n_components': [20, 30, 40, 50],\n",
    "    'dtc__max_depth': [5, 10, 20, 30],\n",
    "    'dtc__max_features': ['auto', 20],\n",
    "}\n",
    "\n",
    "pipe = Pipeline(steps=estimators)\n",
    "clf = GridSearchCV(pipe, param_grid, cv=5, scoring='roc_auc', n_jobs=-1, verbose=1)\n",
    "clf.fit(x_train, y_train)\n",
    "print(\"Best parameter (CV score=%0.3f):\" % clf.best_score_)\n",
    "print(clf.best_params_)\n",
    "\n",
    "clf.best_estimator_.fit(x_train, y_train)\n",
    "pred = clf.best_estimator_.predict_proba(x_test)\n",
    "print(f\"Final roc_auc_score = {roc_auc_score(y_test, pred[:, 1])}\")"
   ]
  },
  {
   "cell_type": "markdown",
   "metadata": {},
   "source": [
    "### C-Support Vector Classification"
   ]
  },
  {
   "cell_type": "code",
   "execution_count": null,
   "metadata": {},
   "outputs": [
    {
     "name": "stdout",
     "output_type": "stream",
     "text": [
      "Fitting 5 folds for each of 12 candidates, totalling 60 fits\n",
      "Best parameter (CV score=0.843):\n",
      "{'reduce_dim__n_components': 30, 'svc__C': 0.15}\n"
     ]
    },
    {
     "ename": "AttributeError",
     "evalue": "predict_proba is not available when  probability=False",
     "output_type": "error",
     "traceback": [
      "\u001b[0;31m---------------------------------------------------------------------------\u001b[0m",
      "\u001b[0;31mAttributeError\u001b[0m                            Traceback (most recent call last)",
      "\u001b[0;32m/tmp/ipykernel_18715/3430557927.py\u001b[0m in \u001b[0;36m<module>\u001b[0;34m\u001b[0m\n\u001b[1;32m     19\u001b[0m \u001b[0;34m\u001b[0m\u001b[0m\n\u001b[1;32m     20\u001b[0m \u001b[0mclf\u001b[0m\u001b[0;34m.\u001b[0m\u001b[0mbest_estimator_\u001b[0m\u001b[0;34m.\u001b[0m\u001b[0mfit\u001b[0m\u001b[0;34m(\u001b[0m\u001b[0mx_train\u001b[0m\u001b[0;34m,\u001b[0m \u001b[0my_train\u001b[0m\u001b[0;34m)\u001b[0m\u001b[0;34m\u001b[0m\u001b[0;34m\u001b[0m\u001b[0m\n\u001b[0;32m---> 21\u001b[0;31m \u001b[0mpred\u001b[0m \u001b[0;34m=\u001b[0m \u001b[0mclf\u001b[0m\u001b[0;34m.\u001b[0m\u001b[0mbest_estimator_\u001b[0m\u001b[0;34m.\u001b[0m\u001b[0mpredict_proba\u001b[0m\u001b[0;34m(\u001b[0m\u001b[0mx_test\u001b[0m\u001b[0;34m)\u001b[0m\u001b[0;34m\u001b[0m\u001b[0;34m\u001b[0m\u001b[0m\n\u001b[0m\u001b[1;32m     22\u001b[0m \u001b[0mprint\u001b[0m\u001b[0;34m(\u001b[0m\u001b[0;34mf\"Final roc_auc_score = {roc_auc_score(y_test, pred[:, 1])}\"\u001b[0m\u001b[0;34m)\u001b[0m\u001b[0;34m\u001b[0m\u001b[0;34m\u001b[0m\u001b[0m\n",
      "\u001b[0;32m~/.local/lib/python3.9/site-packages/sklearn/utils/metaestimators.py\u001b[0m in \u001b[0;36m__get__\u001b[0;34m(self, obj, type)\u001b[0m\n\u001b[1;32m    112\u001b[0m                     \u001b[0;32mcontinue\u001b[0m\u001b[0;34m\u001b[0m\u001b[0;34m\u001b[0m\u001b[0m\n\u001b[1;32m    113\u001b[0m                 \u001b[0;32melse\u001b[0m\u001b[0;34m:\u001b[0m\u001b[0;34m\u001b[0m\u001b[0;34m\u001b[0m\u001b[0m\n\u001b[0;32m--> 114\u001b[0;31m                     \u001b[0mgetattr\u001b[0m\u001b[0;34m(\u001b[0m\u001b[0mdelegate\u001b[0m\u001b[0;34m,\u001b[0m \u001b[0mself\u001b[0m\u001b[0;34m.\u001b[0m\u001b[0mattribute_name\u001b[0m\u001b[0;34m)\u001b[0m\u001b[0;34m\u001b[0m\u001b[0;34m\u001b[0m\u001b[0m\n\u001b[0m\u001b[1;32m    115\u001b[0m                     \u001b[0;32mbreak\u001b[0m\u001b[0;34m\u001b[0m\u001b[0;34m\u001b[0m\u001b[0m\n\u001b[1;32m    116\u001b[0m             \u001b[0;32melse\u001b[0m\u001b[0;34m:\u001b[0m\u001b[0;34m\u001b[0m\u001b[0;34m\u001b[0m\u001b[0m\n",
      "\u001b[0;32m~/.local/lib/python3.9/site-packages/sklearn/svm/_base.py\u001b[0m in \u001b[0;36mpredict_proba\u001b[0;34m(self)\u001b[0m\n\u001b[1;32m    664\u001b[0m         \u001b[0mdatasets\u001b[0m\u001b[0;34m.\u001b[0m\u001b[0;34m\u001b[0m\u001b[0;34m\u001b[0m\u001b[0m\n\u001b[1;32m    665\u001b[0m         \"\"\"\n\u001b[0;32m--> 666\u001b[0;31m         \u001b[0mself\u001b[0m\u001b[0;34m.\u001b[0m\u001b[0m_check_proba\u001b[0m\u001b[0;34m(\u001b[0m\u001b[0;34m)\u001b[0m\u001b[0;34m\u001b[0m\u001b[0;34m\u001b[0m\u001b[0m\n\u001b[0m\u001b[1;32m    667\u001b[0m         \u001b[0;32mreturn\u001b[0m \u001b[0mself\u001b[0m\u001b[0;34m.\u001b[0m\u001b[0m_predict_proba\u001b[0m\u001b[0;34m\u001b[0m\u001b[0;34m\u001b[0m\u001b[0m\n\u001b[1;32m    668\u001b[0m \u001b[0;34m\u001b[0m\u001b[0m\n",
      "\u001b[0;32m~/.local/lib/python3.9/site-packages/sklearn/svm/_base.py\u001b[0m in \u001b[0;36m_check_proba\u001b[0;34m(self)\u001b[0m\n\u001b[1;32m    631\u001b[0m     \u001b[0;32mdef\u001b[0m \u001b[0m_check_proba\u001b[0m\u001b[0;34m(\u001b[0m\u001b[0mself\u001b[0m\u001b[0;34m)\u001b[0m\u001b[0;34m:\u001b[0m\u001b[0;34m\u001b[0m\u001b[0;34m\u001b[0m\u001b[0m\n\u001b[1;32m    632\u001b[0m         \u001b[0;32mif\u001b[0m \u001b[0;32mnot\u001b[0m \u001b[0mself\u001b[0m\u001b[0;34m.\u001b[0m\u001b[0mprobability\u001b[0m\u001b[0;34m:\u001b[0m\u001b[0;34m\u001b[0m\u001b[0;34m\u001b[0m\u001b[0m\n\u001b[0;32m--> 633\u001b[0;31m             raise AttributeError(\"predict_proba is not available when \"\n\u001b[0m\u001b[1;32m    634\u001b[0m                                  \" probability=False\")\n\u001b[1;32m    635\u001b[0m         \u001b[0;32mif\u001b[0m \u001b[0mself\u001b[0m\u001b[0;34m.\u001b[0m\u001b[0m_impl\u001b[0m \u001b[0;32mnot\u001b[0m \u001b[0;32min\u001b[0m \u001b[0;34m(\u001b[0m\u001b[0;34m'c_svc'\u001b[0m\u001b[0;34m,\u001b[0m \u001b[0;34m'nu_svc'\u001b[0m\u001b[0;34m)\u001b[0m\u001b[0;34m:\u001b[0m\u001b[0;34m\u001b[0m\u001b[0;34m\u001b[0m\u001b[0m\n",
      "\u001b[0;31mAttributeError\u001b[0m: predict_proba is not available when  probability=False"
     ]
    }
   ],
   "source": [
    "estimators = [\n",
    "    ('reduce_dim', PCA()),\n",
    "    ('scaler', StandardScaler()),\n",
    "    ('svc', SVC(probability=True, gamma='auto', random_state=42)),\n",
    "]\n",
    "\n",
    "param_grid = {\n",
    "    'reduce_dim__n_components': [20, 30],\n",
    "    'svc__C': [\n",
    "        0.001, 0.005, 0.01, 0.05, 0.1, 0.15,\n",
    "    ],\n",
    "}\n",
    "\n",
    "pipe = Pipeline(steps=estimators)\n",
    "clf = GridSearchCV(pipe, param_grid, cv=5, scoring='roc_auc', n_jobs=-1, verbose=1)\n",
    "clf.fit(x_train, y_train)\n",
    "print(\"Best parameter (CV score=%0.3f):\" % clf.best_score_)\n",
    "print(clf.best_params_)\n",
    "\n",
    "clf.best_estimator_.fit(x_train, y_train)\n",
    "pred = clf.best_estimator_.predict_proba(x_test)\n",
    "print(f\"Final roc_auc_score = {roc_auc_score(y_test, pred[:, 1])}\")"
   ]
  },
  {
   "cell_type": "markdown",
   "metadata": {},
   "source": [
    "### Random Forest:"
   ]
  },
  {
   "cell_type": "code",
   "execution_count": null,
   "metadata": {},
   "outputs": [
    {
     "name": "stdout",
     "output_type": "stream",
     "text": [
      "Fitting 5 folds for each of 12 candidates, totalling 60 fits\n",
      "Best parameter (CV score=0.841):\n",
      "{'reduce_dim__n_components': 40, 'rfc__max_depth': 10, 'rfc__n_estimators': 550}\n",
      "Final roc_auc_score = 0.8374709613872987\n"
     ]
    }
   ],
   "source": [
    "estimators = [\n",
    "    ('reduce_dim', PCA()),\n",
    "    ('scaler', StandardScaler()),\n",
    "    ('rfc', RandomForestClassifier(random_state=42)),\n",
    "]\n",
    "\n",
    "param_grid = {\n",
    "    'reduce_dim__n_components': [20, 30, 40],\n",
    "    'rfc__n_estimators': [500, 550],\n",
    "    'rfc__max_depth': [9, 10],\n",
    "}\n",
    "\n",
    "pipe = Pipeline(steps=estimators)\n",
    "clf = GridSearchCV(pipe, param_grid, cv=5, scoring='roc_auc', n_jobs=-1, verbose=1)\n",
    "clf.fit(x_train, y_train)\n",
    "print(\"Best parameter (CV score=%0.3f):\" % clf.best_score_)\n",
    "print(clf.best_params_)\n",
    "\n",
    "clf.best_estimator_.fit(x_train, y_train)\n",
    "pred = clf.best_estimator_.predict_proba(x_test)\n",
    "print(f\"Final roc_auc_score = {roc_auc_score(y_test, pred[:, 1])}\")"
   ]
  },
  {
   "cell_type": "markdown",
   "metadata": {},
   "source": [
    "### Gaussian Naive Bayes:"
   ]
  },
  {
   "cell_type": "code",
   "execution_count": null,
   "metadata": {},
   "outputs": [
    {
     "name": "stdout",
     "output_type": "stream",
     "text": [
      "Fitting 5 folds for each of 3 candidates, totalling 15 fits\n",
      "Best parameter (CV score=0.819):\n",
      "{'reduce_dim__n_components': 20}\n",
      "Final roc_auc_score = 0.8123746020785243\n"
     ]
    }
   ],
   "source": [
    "estimators = [\n",
    "    ('reduce_dim', PCA()),\n",
    "    ('scaler', StandardScaler()),\n",
    "    ('gnb', GaussianNB()),\n",
    "]\n",
    "\n",
    "param_grid = {\n",
    "    'reduce_dim__n_components': [20, 30, 40],\n",
    "}\n",
    "\n",
    "pipe = Pipeline(steps=estimators)\n",
    "clf = GridSearchCV(pipe, param_grid, cv=5, scoring='roc_auc', n_jobs=-1, verbose=1)\n",
    "clf.fit(x_train, y_train)\n",
    "print(\"Best parameter (CV score=%0.3f):\" % clf.best_score_)\n",
    "print(clf.best_params_)\n",
    "\n",
    "clf.best_estimator_.fit(x_train, y_train)\n",
    "pred = clf.best_estimator_.predict_proba(x_test)\n",
    "print(f\"Final roc_auc_score = {roc_auc_score(y_test, pred[:, 1])}\")"
   ]
  },
  {
   "cell_type": "markdown",
   "metadata": {},
   "source": [
    "### MLP Classifier:"
   ]
  },
  {
   "cell_type": "code",
   "execution_count": null,
   "metadata": {},
   "outputs": [
    {
     "name": "stdout",
     "output_type": "stream",
     "text": [
      "Fitting 5 folds for each of 12 candidates, totalling 60 fits\n"
     ]
    },
    {
     "name": "stderr",
     "output_type": "stream",
     "text": [
      "/home/albert/.local/lib/python3.9/site-packages/sklearn/neural_network/_multilayer_perceptron.py:614: ConvergenceWarning: Stochastic Optimizer: Maximum iterations (600) reached and the optimization hasn't converged yet.\n",
      "  warnings.warn(\n"
     ]
    },
    {
     "name": "stdout",
     "output_type": "stream",
     "text": [
      "Best parameter (CV score=0.774):\n",
      "{'mlp__alpha': 0.0001, 'mlp__hidden_layer_sizes': (150, 100), 'reduce_dim__n_components': 40}\n",
      "Final roc_auc_score = 0.7672010551733954\n"
     ]
    }
   ],
   "source": [
    "estimators = [\n",
    "    ('reduce_dim', PCA()),\n",
    "    ('scaler', StandardScaler()),\n",
    "    ('mlp', MLPClassifier(max_iter=600, random_state=42)),\n",
    "]\n",
    "\n",
    "param_grid = {\n",
    "    'reduce_dim__n_components': [20, 30, 40],\n",
    "    'mlp__hidden_layer_sizes': [(100, 50), (150, 100)],\n",
    "    'mlp__alpha': [1e-4, 2e-4],\n",
    "}\n",
    "\n",
    "pipe = Pipeline(steps=estimators)\n",
    "clf = GridSearchCV(pipe, param_grid, cv=5, scoring='roc_auc', n_jobs=-1, verbose=1)\n",
    "clf.fit(x_train, y_train)\n",
    "print(\"Best parameter (CV score=%0.3f):\" % clf.best_score_)\n",
    "print(clf.best_params_)\n",
    "\n",
    "clf.best_estimator_.fit(x_train, y_train)\n",
    "pred = clf.best_estimator_.predict_proba(x_test)\n",
    "print(f\"Final roc_auc_score = {roc_auc_score(y_test, pred[:, 1])}\")"
   ]
  }
 ],
 "metadata": {
  "interpreter": {
   "hash": "916dbcbb3f70747c44a77c7bcd40155683ae19c65e1c03b4aa3499c5328201f1"
  },
  "kernelspec": {
   "display_name": "Python 3.9.5 64-bit",
   "name": "python3"
  },
  "language_info": {
   "codemirror_mode": {
    "name": "ipython",
    "version": 3
   },
   "file_extension": ".py",
   "mimetype": "text/x-python",
   "name": "python",
   "nbconvert_exporter": "python",
   "pygments_lexer": "ipython3",
   "version": "3.9.5"
  },
  "orig_nbformat": 4
 },
 "nbformat": 4,
 "nbformat_minor": 2
}
