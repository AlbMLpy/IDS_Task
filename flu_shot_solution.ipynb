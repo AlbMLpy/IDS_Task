{
 "cells": [
  {
   "cell_type": "markdown",
   "metadata": {},
   "source": [
    "# **Introduction to Data Science: (2021)**"
   ]
  },
  {
   "cell_type": "markdown",
   "metadata": {},
   "source": [
    "## Project done by **Albert Sayapin** and **Sergei Nikodimov** "
   ]
  },
  {
   "cell_type": "markdown",
   "metadata": {},
   "source": [
    "## Grading details:\n",
    "\n",
    "1. Describe the *problem* you want to solve. *Why* is it *important*? *Why* do we want to use *Machine Learning*? (Task 1)\n",
    "2. *Load* the data using pandas and *split* the data frame into X (*inputs*) and y (*outputs*). (Task 2)\n",
    "3. *Prepare* your *dataset*:\n",
    "   1. encode categorical variables(if any); Explain. (Task 3.1)\n",
    "   2. handle missing variables (if any); Explain. (Task 3.2)\n",
    "   3. generate new features (if useful); Explain. (Task 3.3)\n",
    "   4. preprocess target (if needed); Explain. (Task 3.4)\n",
    "4. Perform EDA via visualization with Seaborn:\n",
    "   1. try to find patterns to make ML task more specific / to help with selection and tuning ML models. (Task 4.1)\n",
    "   2. preprocess your data if your findings suggest this; Explain. (Task 4.2)\n",
    "   3. after you can select tagret changes; Explain. (Task 4.3)\n",
    "5. Training:\n",
    "   1. build a proper cross-validation procedure; Explain. (Task 5.1)\n",
    "   2. select an appropriate measure of quality; Explain. (Task 5.2)\n",
    "   3. choose an ML model; Explain. (Task 5.3) \n",
    "   4. look for a good set of hyperparameters. (Task 5.4)\n",
    "   5. use the prepared cv procedure to estimate the quality of prediction. (Task 5.5)\n",
    "6. Analyze the obtained results and make final conclusion:\n",
    "   1. interesting findings, remarks on ML experiments; (Task 6.1)\n",
    "   2. the applicability of the model in a real-life scenario; (Task 6.2)\n",
    "   3. does your model solve the problem stated at the beginning? (Task 6.3)\n",
    "   4. Can you estimate the impact of your ML model on the problem domain (Task 6.4)\n"
   ]
  },
  {
   "cell_type": "markdown",
   "metadata": {},
   "source": [
    "## <u>Task 1.</u>\n",
    "Our problem is to predict the likelihood of a person getting seasonal and h1n1 vaccinations based on a set of personal data. This problem is especially important for the health care system, since it is very often necessary to know the rate of vaccination in order to make the required amount of vaccines and also prevent the spread of the epidemic. We want to use machine learning to try and predict the most likely choice of a person in terms of vaccination in a good enough way. We can use machine learning techniques to solve this problem because it is repetitive issue (happens periodically) and we also have a lot of data on this problem, that is why ML is suitable here."
   ]
  },
  {
   "cell_type": "code",
   "execution_count": 1,
   "metadata": {},
   "outputs": [],
   "source": [
    "import numpy as np\n",
    "import pandas as pd\n",
    "\n",
    "from sklearn.linear_model import LogisticRegression\n",
    "from sklearn.svm import SVC, LinearSVC\n",
    "from sklearn.neighbors import KNeighborsClassifier\n",
    "from sklearn.tree import DecisionTreeClassifier\n",
    "from sklearn.ensemble import RandomForestClassifier\n",
    "from sklearn.naive_bayes import GaussianNB\n",
    "from sklearn.neural_network import MLPClassifier\n",
    "\n",
    "from sklearn.preprocessing import StandardScaler\n",
    "from sklearn.decomposition import PCA\n",
    "from sklearn.pipeline import Pipeline\n",
    "from sklearn.model_selection import GridSearchCV\n",
    "from sklearn.model_selection import train_test_split\n",
    "from sklearn.metrics import roc_auc_score\n",
    "\n",
    "import matplotlib.pyplot as plt\n",
    "import seaborn as sns\n",
    "\n",
    "import warnings\n",
    "\n",
    "%matplotlib inline\n",
    "sns.set()\n",
    "warnings.filterwarnings('ignore')"
   ]
  },
  {
   "cell_type": "markdown",
   "metadata": {},
   "source": [
    "# **Work with the data:**"
   ]
  },
  {
   "cell_type": "markdown",
   "metadata": {},
   "source": [
    "## *Load the data:*\n",
    "### You can get the data from https://www.drivendata.org/competitions/66/flu-shot-learning/"
   ]
  },
  {
   "cell_type": "markdown",
   "metadata": {},
   "source": [
    "## <u>Task 2. Look at one Cell below.</u>\n",
    "Our I / O data was already split, so we just gave them names."
   ]
  },
  {
   "cell_type": "code",
   "execution_count": 2,
   "metadata": {},
   "outputs": [],
   "source": [
    "train_data = pd.read_csv(\"training_set_features.csv\", index_col=0)\n",
    "train_target = pd.read_csv(\"training_set_labels.csv\", index_col=0)"
   ]
  },
  {
   "cell_type": "markdown",
   "metadata": {},
   "source": [
    "## *Look at the data and deal with missing values:*"
   ]
  },
  {
   "cell_type": "markdown",
   "metadata": {},
   "source": [
    "### Features:"
   ]
  },
  {
   "cell_type": "code",
   "execution_count": 3,
   "metadata": {},
   "outputs": [
    {
     "data": {
      "text/plain": [
       "(26707, 35)"
      ]
     },
     "execution_count": 3,
     "metadata": {},
     "output_type": "execute_result"
    }
   ],
   "source": [
    "train_data.shape"
   ]
  },
  {
   "cell_type": "code",
   "execution_count": 4,
   "metadata": {},
   "outputs": [
    {
     "data": {
      "text/plain": [
       "Index(['h1n1_concern', 'h1n1_knowledge', 'behavioral_antiviral_meds',\n",
       "       'behavioral_avoidance', 'behavioral_face_mask', 'behavioral_wash_hands',\n",
       "       'behavioral_large_gatherings', 'behavioral_outside_home',\n",
       "       'behavioral_touch_face', 'doctor_recc_h1n1', 'doctor_recc_seasonal',\n",
       "       'chronic_med_condition', 'child_under_6_months', 'health_worker',\n",
       "       'health_insurance', 'opinion_h1n1_vacc_effective', 'opinion_h1n1_risk',\n",
       "       'opinion_h1n1_sick_from_vacc', 'opinion_seas_vacc_effective',\n",
       "       'opinion_seas_risk', 'opinion_seas_sick_from_vacc', 'age_group',\n",
       "       'education', 'race', 'sex', 'income_poverty', 'marital_status',\n",
       "       'rent_or_own', 'employment_status', 'hhs_geo_region', 'census_msa',\n",
       "       'household_adults', 'household_children', 'employment_industry',\n",
       "       'employment_occupation'],\n",
       "      dtype='object')"
      ]
     },
     "execution_count": 4,
     "metadata": {},
     "output_type": "execute_result"
    }
   ],
   "source": [
    "train_data.columns"
   ]
  },
  {
   "cell_type": "code",
   "execution_count": 6,
   "metadata": {},
   "outputs": [
    {
     "data": {
      "text/plain": [
       "array([dtype('float64'), dtype('O')], dtype=object)"
      ]
     },
     "execution_count": 6,
     "metadata": {},
     "output_type": "execute_result"
    }
   ],
   "source": [
    "train_data.dtypes.unique()"
   ]
  },
  {
   "cell_type": "code",
   "execution_count": 7,
   "metadata": {},
   "outputs": [
    {
     "data": {
      "text/html": [
       "<div>\n",
       "<style scoped>\n",
       "    .dataframe tbody tr th:only-of-type {\n",
       "        vertical-align: middle;\n",
       "    }\n",
       "\n",
       "    .dataframe tbody tr th {\n",
       "        vertical-align: top;\n",
       "    }\n",
       "\n",
       "    .dataframe thead th {\n",
       "        text-align: right;\n",
       "    }\n",
       "</style>\n",
       "<table border=\"1\" class=\"dataframe\">\n",
       "  <thead>\n",
       "    <tr style=\"text-align: right;\">\n",
       "      <th></th>\n",
       "      <th>count</th>\n",
       "      <th>mean</th>\n",
       "      <th>std</th>\n",
       "      <th>min</th>\n",
       "      <th>25%</th>\n",
       "      <th>50%</th>\n",
       "      <th>75%</th>\n",
       "      <th>max</th>\n",
       "    </tr>\n",
       "  </thead>\n",
       "  <tbody>\n",
       "    <tr>\n",
       "      <th>h1n1_concern</th>\n",
       "      <td>26615.0</td>\n",
       "      <td>1.618486</td>\n",
       "      <td>0.910311</td>\n",
       "      <td>0.0</td>\n",
       "      <td>1.0</td>\n",
       "      <td>2.0</td>\n",
       "      <td>2.0</td>\n",
       "      <td>3.0</td>\n",
       "    </tr>\n",
       "    <tr>\n",
       "      <th>h1n1_knowledge</th>\n",
       "      <td>26591.0</td>\n",
       "      <td>1.262532</td>\n",
       "      <td>0.618149</td>\n",
       "      <td>0.0</td>\n",
       "      <td>1.0</td>\n",
       "      <td>1.0</td>\n",
       "      <td>2.0</td>\n",
       "      <td>2.0</td>\n",
       "    </tr>\n",
       "    <tr>\n",
       "      <th>behavioral_antiviral_meds</th>\n",
       "      <td>26636.0</td>\n",
       "      <td>0.048844</td>\n",
       "      <td>0.215545</td>\n",
       "      <td>0.0</td>\n",
       "      <td>0.0</td>\n",
       "      <td>0.0</td>\n",
       "      <td>0.0</td>\n",
       "      <td>1.0</td>\n",
       "    </tr>\n",
       "    <tr>\n",
       "      <th>behavioral_avoidance</th>\n",
       "      <td>26499.0</td>\n",
       "      <td>0.725612</td>\n",
       "      <td>0.446214</td>\n",
       "      <td>0.0</td>\n",
       "      <td>0.0</td>\n",
       "      <td>1.0</td>\n",
       "      <td>1.0</td>\n",
       "      <td>1.0</td>\n",
       "    </tr>\n",
       "    <tr>\n",
       "      <th>behavioral_face_mask</th>\n",
       "      <td>26688.0</td>\n",
       "      <td>0.068982</td>\n",
       "      <td>0.253429</td>\n",
       "      <td>0.0</td>\n",
       "      <td>0.0</td>\n",
       "      <td>0.0</td>\n",
       "      <td>0.0</td>\n",
       "      <td>1.0</td>\n",
       "    </tr>\n",
       "    <tr>\n",
       "      <th>behavioral_wash_hands</th>\n",
       "      <td>26665.0</td>\n",
       "      <td>0.825614</td>\n",
       "      <td>0.379448</td>\n",
       "      <td>0.0</td>\n",
       "      <td>1.0</td>\n",
       "      <td>1.0</td>\n",
       "      <td>1.0</td>\n",
       "      <td>1.0</td>\n",
       "    </tr>\n",
       "    <tr>\n",
       "      <th>behavioral_large_gatherings</th>\n",
       "      <td>26620.0</td>\n",
       "      <td>0.358640</td>\n",
       "      <td>0.479610</td>\n",
       "      <td>0.0</td>\n",
       "      <td>0.0</td>\n",
       "      <td>0.0</td>\n",
       "      <td>1.0</td>\n",
       "      <td>1.0</td>\n",
       "    </tr>\n",
       "    <tr>\n",
       "      <th>behavioral_outside_home</th>\n",
       "      <td>26625.0</td>\n",
       "      <td>0.337315</td>\n",
       "      <td>0.472802</td>\n",
       "      <td>0.0</td>\n",
       "      <td>0.0</td>\n",
       "      <td>0.0</td>\n",
       "      <td>1.0</td>\n",
       "      <td>1.0</td>\n",
       "    </tr>\n",
       "    <tr>\n",
       "      <th>behavioral_touch_face</th>\n",
       "      <td>26579.0</td>\n",
       "      <td>0.677264</td>\n",
       "      <td>0.467531</td>\n",
       "      <td>0.0</td>\n",
       "      <td>0.0</td>\n",
       "      <td>1.0</td>\n",
       "      <td>1.0</td>\n",
       "      <td>1.0</td>\n",
       "    </tr>\n",
       "    <tr>\n",
       "      <th>doctor_recc_h1n1</th>\n",
       "      <td>24547.0</td>\n",
       "      <td>0.220312</td>\n",
       "      <td>0.414466</td>\n",
       "      <td>0.0</td>\n",
       "      <td>0.0</td>\n",
       "      <td>0.0</td>\n",
       "      <td>0.0</td>\n",
       "      <td>1.0</td>\n",
       "    </tr>\n",
       "    <tr>\n",
       "      <th>doctor_recc_seasonal</th>\n",
       "      <td>24547.0</td>\n",
       "      <td>0.329735</td>\n",
       "      <td>0.470126</td>\n",
       "      <td>0.0</td>\n",
       "      <td>0.0</td>\n",
       "      <td>0.0</td>\n",
       "      <td>1.0</td>\n",
       "      <td>1.0</td>\n",
       "    </tr>\n",
       "    <tr>\n",
       "      <th>chronic_med_condition</th>\n",
       "      <td>25736.0</td>\n",
       "      <td>0.283261</td>\n",
       "      <td>0.450591</td>\n",
       "      <td>0.0</td>\n",
       "      <td>0.0</td>\n",
       "      <td>0.0</td>\n",
       "      <td>1.0</td>\n",
       "      <td>1.0</td>\n",
       "    </tr>\n",
       "    <tr>\n",
       "      <th>child_under_6_months</th>\n",
       "      <td>25887.0</td>\n",
       "      <td>0.082590</td>\n",
       "      <td>0.275266</td>\n",
       "      <td>0.0</td>\n",
       "      <td>0.0</td>\n",
       "      <td>0.0</td>\n",
       "      <td>0.0</td>\n",
       "      <td>1.0</td>\n",
       "    </tr>\n",
       "    <tr>\n",
       "      <th>health_worker</th>\n",
       "      <td>25903.0</td>\n",
       "      <td>0.111918</td>\n",
       "      <td>0.315271</td>\n",
       "      <td>0.0</td>\n",
       "      <td>0.0</td>\n",
       "      <td>0.0</td>\n",
       "      <td>0.0</td>\n",
       "      <td>1.0</td>\n",
       "    </tr>\n",
       "    <tr>\n",
       "      <th>health_insurance</th>\n",
       "      <td>14433.0</td>\n",
       "      <td>0.879720</td>\n",
       "      <td>0.325300</td>\n",
       "      <td>0.0</td>\n",
       "      <td>1.0</td>\n",
       "      <td>1.0</td>\n",
       "      <td>1.0</td>\n",
       "      <td>1.0</td>\n",
       "    </tr>\n",
       "    <tr>\n",
       "      <th>opinion_h1n1_vacc_effective</th>\n",
       "      <td>26316.0</td>\n",
       "      <td>3.850623</td>\n",
       "      <td>1.007436</td>\n",
       "      <td>1.0</td>\n",
       "      <td>3.0</td>\n",
       "      <td>4.0</td>\n",
       "      <td>5.0</td>\n",
       "      <td>5.0</td>\n",
       "    </tr>\n",
       "    <tr>\n",
       "      <th>opinion_h1n1_risk</th>\n",
       "      <td>26319.0</td>\n",
       "      <td>2.342566</td>\n",
       "      <td>1.285539</td>\n",
       "      <td>1.0</td>\n",
       "      <td>1.0</td>\n",
       "      <td>2.0</td>\n",
       "      <td>4.0</td>\n",
       "      <td>5.0</td>\n",
       "    </tr>\n",
       "    <tr>\n",
       "      <th>opinion_h1n1_sick_from_vacc</th>\n",
       "      <td>26312.0</td>\n",
       "      <td>2.357670</td>\n",
       "      <td>1.362766</td>\n",
       "      <td>1.0</td>\n",
       "      <td>1.0</td>\n",
       "      <td>2.0</td>\n",
       "      <td>4.0</td>\n",
       "      <td>5.0</td>\n",
       "    </tr>\n",
       "    <tr>\n",
       "      <th>opinion_seas_vacc_effective</th>\n",
       "      <td>26245.0</td>\n",
       "      <td>4.025986</td>\n",
       "      <td>1.086565</td>\n",
       "      <td>1.0</td>\n",
       "      <td>4.0</td>\n",
       "      <td>4.0</td>\n",
       "      <td>5.0</td>\n",
       "      <td>5.0</td>\n",
       "    </tr>\n",
       "    <tr>\n",
       "      <th>opinion_seas_risk</th>\n",
       "      <td>26193.0</td>\n",
       "      <td>2.719162</td>\n",
       "      <td>1.385055</td>\n",
       "      <td>1.0</td>\n",
       "      <td>2.0</td>\n",
       "      <td>2.0</td>\n",
       "      <td>4.0</td>\n",
       "      <td>5.0</td>\n",
       "    </tr>\n",
       "    <tr>\n",
       "      <th>opinion_seas_sick_from_vacc</th>\n",
       "      <td>26170.0</td>\n",
       "      <td>2.118112</td>\n",
       "      <td>1.332950</td>\n",
       "      <td>1.0</td>\n",
       "      <td>1.0</td>\n",
       "      <td>2.0</td>\n",
       "      <td>4.0</td>\n",
       "      <td>5.0</td>\n",
       "    </tr>\n",
       "    <tr>\n",
       "      <th>household_adults</th>\n",
       "      <td>26458.0</td>\n",
       "      <td>0.886499</td>\n",
       "      <td>0.753422</td>\n",
       "      <td>0.0</td>\n",
       "      <td>0.0</td>\n",
       "      <td>1.0</td>\n",
       "      <td>1.0</td>\n",
       "      <td>3.0</td>\n",
       "    </tr>\n",
       "    <tr>\n",
       "      <th>household_children</th>\n",
       "      <td>26458.0</td>\n",
       "      <td>0.534583</td>\n",
       "      <td>0.928173</td>\n",
       "      <td>0.0</td>\n",
       "      <td>0.0</td>\n",
       "      <td>0.0</td>\n",
       "      <td>1.0</td>\n",
       "      <td>3.0</td>\n",
       "    </tr>\n",
       "  </tbody>\n",
       "</table>\n",
       "</div>"
      ],
      "text/plain": [
       "                               count      mean       std  min  25%  50%  75%  \\\n",
       "h1n1_concern                 26615.0  1.618486  0.910311  0.0  1.0  2.0  2.0   \n",
       "h1n1_knowledge               26591.0  1.262532  0.618149  0.0  1.0  1.0  2.0   \n",
       "behavioral_antiviral_meds    26636.0  0.048844  0.215545  0.0  0.0  0.0  0.0   \n",
       "behavioral_avoidance         26499.0  0.725612  0.446214  0.0  0.0  1.0  1.0   \n",
       "behavioral_face_mask         26688.0  0.068982  0.253429  0.0  0.0  0.0  0.0   \n",
       "behavioral_wash_hands        26665.0  0.825614  0.379448  0.0  1.0  1.0  1.0   \n",
       "behavioral_large_gatherings  26620.0  0.358640  0.479610  0.0  0.0  0.0  1.0   \n",
       "behavioral_outside_home      26625.0  0.337315  0.472802  0.0  0.0  0.0  1.0   \n",
       "behavioral_touch_face        26579.0  0.677264  0.467531  0.0  0.0  1.0  1.0   \n",
       "doctor_recc_h1n1             24547.0  0.220312  0.414466  0.0  0.0  0.0  0.0   \n",
       "doctor_recc_seasonal         24547.0  0.329735  0.470126  0.0  0.0  0.0  1.0   \n",
       "chronic_med_condition        25736.0  0.283261  0.450591  0.0  0.0  0.0  1.0   \n",
       "child_under_6_months         25887.0  0.082590  0.275266  0.0  0.0  0.0  0.0   \n",
       "health_worker                25903.0  0.111918  0.315271  0.0  0.0  0.0  0.0   \n",
       "health_insurance             14433.0  0.879720  0.325300  0.0  1.0  1.0  1.0   \n",
       "opinion_h1n1_vacc_effective  26316.0  3.850623  1.007436  1.0  3.0  4.0  5.0   \n",
       "opinion_h1n1_risk            26319.0  2.342566  1.285539  1.0  1.0  2.0  4.0   \n",
       "opinion_h1n1_sick_from_vacc  26312.0  2.357670  1.362766  1.0  1.0  2.0  4.0   \n",
       "opinion_seas_vacc_effective  26245.0  4.025986  1.086565  1.0  4.0  4.0  5.0   \n",
       "opinion_seas_risk            26193.0  2.719162  1.385055  1.0  2.0  2.0  4.0   \n",
       "opinion_seas_sick_from_vacc  26170.0  2.118112  1.332950  1.0  1.0  2.0  4.0   \n",
       "household_adults             26458.0  0.886499  0.753422  0.0  0.0  1.0  1.0   \n",
       "household_children           26458.0  0.534583  0.928173  0.0  0.0  0.0  1.0   \n",
       "\n",
       "                             max  \n",
       "h1n1_concern                 3.0  \n",
       "h1n1_knowledge               2.0  \n",
       "behavioral_antiviral_meds    1.0  \n",
       "behavioral_avoidance         1.0  \n",
       "behavioral_face_mask         1.0  \n",
       "behavioral_wash_hands        1.0  \n",
       "behavioral_large_gatherings  1.0  \n",
       "behavioral_outside_home      1.0  \n",
       "behavioral_touch_face        1.0  \n",
       "doctor_recc_h1n1             1.0  \n",
       "doctor_recc_seasonal         1.0  \n",
       "chronic_med_condition        1.0  \n",
       "child_under_6_months         1.0  \n",
       "health_worker                1.0  \n",
       "health_insurance             1.0  \n",
       "opinion_h1n1_vacc_effective  5.0  \n",
       "opinion_h1n1_risk            5.0  \n",
       "opinion_h1n1_sick_from_vacc  5.0  \n",
       "opinion_seas_vacc_effective  5.0  \n",
       "opinion_seas_risk            5.0  \n",
       "opinion_seas_sick_from_vacc  5.0  \n",
       "household_adults             3.0  \n",
       "household_children           3.0  "
      ]
     },
     "execution_count": 7,
     "metadata": {},
     "output_type": "execute_result"
    }
   ],
   "source": [
    "train_data.select_dtypes(include=\"float64\").describe().T"
   ]
  },
  {
   "cell_type": "markdown",
   "metadata": {},
   "source": [
    "## <u>Task (3.2). Look at one Cell below.</u>\n",
    "All missing values   in float columns have been filled with the median value of this column. We considered this to be the best approximation method when we work with discrete variables and do not want to lose information by dropping rows.\n",
    "All Nan values   in the columns with the object data type were filled based on other columns in which all the values   were present. For example, we mapped Nans to one of the educational classes based on age_group because there is a correlation between education level and age. Because we thought it was better than dropping rows."
   ]
  },
  {
   "cell_type": "code",
   "execution_count": 8,
   "metadata": {},
   "outputs": [],
   "source": [
    "# Fill in Nans in float columns with median values because it is the best approximation\n",
    "# when you work with descrete variables and do not want to lose information dropping rows:\n",
    "\n",
    "float_cols = train_data.select_dtypes(include=\"float64\").columns\n",
    "float_medians = train_data[float_cols].median()\n",
    "\n",
    "train_data[float_cols] = train_data[float_cols].fillna(float_medians)"
   ]
  },
  {
   "cell_type": "code",
   "execution_count": 9,
   "metadata": {},
   "outputs": [
    {
     "data": {
      "text/html": [
       "<div>\n",
       "<style scoped>\n",
       "    .dataframe tbody tr th:only-of-type {\n",
       "        vertical-align: middle;\n",
       "    }\n",
       "\n",
       "    .dataframe tbody tr th {\n",
       "        vertical-align: top;\n",
       "    }\n",
       "\n",
       "    .dataframe thead th {\n",
       "        text-align: right;\n",
       "    }\n",
       "</style>\n",
       "<table border=\"1\" class=\"dataframe\">\n",
       "  <thead>\n",
       "    <tr style=\"text-align: right;\">\n",
       "      <th></th>\n",
       "      <th>count</th>\n",
       "      <th>unique</th>\n",
       "      <th>top</th>\n",
       "      <th>freq</th>\n",
       "    </tr>\n",
       "  </thead>\n",
       "  <tbody>\n",
       "    <tr>\n",
       "      <th>age_group</th>\n",
       "      <td>26707</td>\n",
       "      <td>5</td>\n",
       "      <td>65+ Years</td>\n",
       "      <td>6843</td>\n",
       "    </tr>\n",
       "    <tr>\n",
       "      <th>education</th>\n",
       "      <td>25300</td>\n",
       "      <td>4</td>\n",
       "      <td>College Graduate</td>\n",
       "      <td>10097</td>\n",
       "    </tr>\n",
       "    <tr>\n",
       "      <th>race</th>\n",
       "      <td>26707</td>\n",
       "      <td>4</td>\n",
       "      <td>White</td>\n",
       "      <td>21222</td>\n",
       "    </tr>\n",
       "    <tr>\n",
       "      <th>sex</th>\n",
       "      <td>26707</td>\n",
       "      <td>2</td>\n",
       "      <td>Female</td>\n",
       "      <td>15858</td>\n",
       "    </tr>\n",
       "    <tr>\n",
       "      <th>income_poverty</th>\n",
       "      <td>22284</td>\n",
       "      <td>3</td>\n",
       "      <td>&lt;= $75,000, Above Poverty</td>\n",
       "      <td>12777</td>\n",
       "    </tr>\n",
       "    <tr>\n",
       "      <th>marital_status</th>\n",
       "      <td>25299</td>\n",
       "      <td>2</td>\n",
       "      <td>Married</td>\n",
       "      <td>13555</td>\n",
       "    </tr>\n",
       "    <tr>\n",
       "      <th>rent_or_own</th>\n",
       "      <td>24665</td>\n",
       "      <td>2</td>\n",
       "      <td>Own</td>\n",
       "      <td>18736</td>\n",
       "    </tr>\n",
       "    <tr>\n",
       "      <th>employment_status</th>\n",
       "      <td>25244</td>\n",
       "      <td>3</td>\n",
       "      <td>Employed</td>\n",
       "      <td>13560</td>\n",
       "    </tr>\n",
       "    <tr>\n",
       "      <th>hhs_geo_region</th>\n",
       "      <td>26707</td>\n",
       "      <td>10</td>\n",
       "      <td>lzgpxyit</td>\n",
       "      <td>4297</td>\n",
       "    </tr>\n",
       "    <tr>\n",
       "      <th>census_msa</th>\n",
       "      <td>26707</td>\n",
       "      <td>3</td>\n",
       "      <td>MSA, Not Principle  City</td>\n",
       "      <td>11645</td>\n",
       "    </tr>\n",
       "    <tr>\n",
       "      <th>employment_industry</th>\n",
       "      <td>13377</td>\n",
       "      <td>21</td>\n",
       "      <td>fcxhlnwr</td>\n",
       "      <td>2468</td>\n",
       "    </tr>\n",
       "    <tr>\n",
       "      <th>employment_occupation</th>\n",
       "      <td>13237</td>\n",
       "      <td>23</td>\n",
       "      <td>xtkaffoo</td>\n",
       "      <td>1778</td>\n",
       "    </tr>\n",
       "  </tbody>\n",
       "</table>\n",
       "</div>"
      ],
      "text/plain": [
       "                       count unique                        top   freq\n",
       "age_group              26707      5                  65+ Years   6843\n",
       "education              25300      4           College Graduate  10097\n",
       "race                   26707      4                      White  21222\n",
       "sex                    26707      2                     Female  15858\n",
       "income_poverty         22284      3  <= $75,000, Above Poverty  12777\n",
       "marital_status         25299      2                    Married  13555\n",
       "rent_or_own            24665      2                        Own  18736\n",
       "employment_status      25244      3                   Employed  13560\n",
       "hhs_geo_region         26707     10                   lzgpxyit   4297\n",
       "census_msa             26707      3   MSA, Not Principle  City  11645\n",
       "employment_industry    13377     21                   fcxhlnwr   2468\n",
       "employment_occupation  13237     23                   xtkaffoo   1778"
      ]
     },
     "execution_count": 9,
     "metadata": {},
     "output_type": "execute_result"
    }
   ],
   "source": [
    "train_data.select_dtypes(include=\"object\").describe().T"
   ]
  },
  {
   "cell_type": "code",
   "execution_count": 10,
   "metadata": {},
   "outputs": [],
   "source": [
    "def bar_plot_value_counts(df, column, title):\n",
    "    \"\"\"\n",
    "        Helper function to plot some results\n",
    "    \"\"\"\n",
    "\n",
    "    df[column].value_counts().plot(kind='bar')\n",
    "    plt.xticks(rotation=45)\n",
    "    plt.title(title)"
   ]
  },
  {
   "cell_type": "markdown",
   "metadata": {},
   "source": [
    "### <u>\"age_group\":</u>\n",
    "### We have all the data, hence we will make it dummy_vals."
   ]
  },
  {
   "cell_type": "code",
   "execution_count": 11,
   "metadata": {},
   "outputs": [
    {
     "data": {
      "image/png": "[encoded data removed]",
      "text/plain": [
       "<Figure size 432x288 with 1 Axes>"
      ]
     },
     "metadata": {},
     "output_type": "display_data"
    }
   ],
   "source": [
    "bar_plot_value_counts(train_data, \"age_group\", \"Age groups\")"
   ]
  },
  {
   "cell_type": "markdown",
   "metadata": {},
   "source": [
    "### <u>\"education\":</u>\n",
    "### We need to fill in NaNs in some way."
   ]
  },
  {
   "cell_type": "code",
   "execution_count": 12,
   "metadata": {},
   "outputs": [
    {
     "data": {
      "image/png": "[encoded data removed]",
      "text/plain": [
       "<Figure size 432x288 with 1 Axes>"
      ]
     },
     "metadata": {},
     "output_type": "display_data"
    }
   ],
   "source": [
    "bar_plot_value_counts(train_data, \"education\", \"Education\")"
   ]
  },
  {
   "cell_type": "code",
   "execution_count": 13,
   "metadata": {},
   "outputs": [
    {
     "data": {
      "text/plain": [
       "age_group\n",
       "18 - 34 Years    College Graduate\n",
       "35 - 44 Years    College Graduate\n",
       "45 - 54 Years    College Graduate\n",
       "55 - 64 Years    College Graduate\n",
       "65+ Years        College Graduate\n",
       "dtype: object"
      ]
     },
     "execution_count": 13,
     "metadata": {},
     "output_type": "execute_result"
    }
   ],
   "source": [
    "train_data.groupby(\"age_group\").apply(lambda x: x[\"education\"].value_counts().idxmax())"
   ]
  },
  {
   "cell_type": "markdown",
   "metadata": {},
   "source": [
    "## <u>Task (3.2). Look at one Cell below.</u>"
   ]
  },
  {
   "cell_type": "code",
   "execution_count": 14,
   "metadata": {},
   "outputs": [],
   "source": [
    "# We will map Nans to one of the educational classes based on age_group\n",
    "# because there is correlation between education level and age;\n",
    "# and it is better than to drop rows or fill Nans with one predefined value\n",
    "\n",
    "age_group2education = (\n",
    "    train_data.groupby(\"age_group\")\n",
    "    .apply(lambda x: x[\"education\"].value_counts().idxmax())\n",
    ")\n",
    "\n",
    "mask = train_data[\"education\"].isna()\n",
    "train_data[\"education\"][mask] = train_data[\"age_group\"][mask].apply(lambda x: age_group2education[x])"
   ]
  },
  {
   "cell_type": "markdown",
   "metadata": {},
   "source": [
    "### <u>\"race\"</u> and <u>\"sex\"</u>:\n",
    "### We have all the data, hence we will make it dummy_vals:"
   ]
  },
  {
   "cell_type": "code",
   "execution_count": 15,
   "metadata": {},
   "outputs": [
    {
     "data": {
      "image/png": "[encoded data removed]",
      "text/plain": [
       "<Figure size 432x288 with 1 Axes>"
      ]
     },
     "metadata": {},
     "output_type": "display_data"
    }
   ],
   "source": [
    "bar_plot_value_counts(train_data, \"race\", \"Race\")"
   ]
  },
  {
   "cell_type": "code",
   "execution_count": 16,
   "metadata": {},
   "outputs": [
    {
     "data": {
      "image/png": "[encoded data removed]",
      "text/plain": [
       "<Figure size 432x288 with 1 Axes>"
      ]
     },
     "metadata": {},
     "output_type": "display_data"
    }
   ],
   "source": [
    "bar_plot_value_counts(train_data, \"sex\", \"Sex\")"
   ]
  },
  {
   "cell_type": "markdown",
   "metadata": {},
   "source": [
    "### <u>\"income_poverty\"</u>:\n",
    "### We need to fill in NaNs in some way."
   ]
  },
  {
   "cell_type": "code",
   "execution_count": 17,
   "metadata": {},
   "outputs": [
    {
     "data": {
      "image/png": "[encoded data removed]",
      "text/plain": [
       "<Figure size 432x288 with 1 Axes>"
      ]
     },
     "metadata": {},
     "output_type": "display_data"
    }
   ],
   "source": [
    "bar_plot_value_counts(train_data, \"income_poverty\", \"Income poverty\")"
   ]
  },
  {
   "cell_type": "code",
   "execution_count": 18,
   "metadata": {},
   "outputs": [
    {
     "data": {
      "text/plain": [
       "education\n",
       "12 Years            <= $75,000, Above Poverty\n",
       "< 12 Years          <= $75,000, Above Poverty\n",
       "College Graduate                    > $75,000\n",
       "Some College        <= $75,000, Above Poverty\n",
       "dtype: object"
      ]
     },
     "execution_count": 18,
     "metadata": {},
     "output_type": "execute_result"
    }
   ],
   "source": [
    "train_data.groupby(\"education\").apply(lambda x: x[\"income_poverty\"].value_counts().idxmax())"
   ]
  },
  {
   "cell_type": "markdown",
   "metadata": {},
   "source": [
    "## <u>Task (3.2). Look at one Cell below.</u>"
   ]
  },
  {
   "cell_type": "code",
   "execution_count": 19,
   "metadata": {},
   "outputs": [],
   "source": [
    "# We will map Nans to one of the income classes based on education\n",
    "# because there is correlation between education level and income;\n",
    "# and it is better than to drop rows or fill Nans with one predefined value\n",
    "\n",
    "education2income = (\n",
    "    train_data.groupby(\"education\")\n",
    "    .apply(lambda x: x[\"income_poverty\"].value_counts().idxmax())\n",
    ")\n",
    "\n",
    "mask = train_data[\"income_poverty\"].isna()\n",
    "train_data[\"income_poverty\"][mask] = train_data[\"education\"][mask].apply(lambda x: education2income[x])"
   ]
  },
  {
   "cell_type": "markdown",
   "metadata": {},
   "source": [
    "### <u>\"marital_status\"</u>:\n",
    "### We need to fill in NaNs in some way."
   ]
  },
  {
   "cell_type": "code",
   "execution_count": 20,
   "metadata": {},
   "outputs": [
    {
     "data": {
      "image/png": "[encoded data removed]",
      "text/plain": [
       "<Figure size 432x288 with 1 Axes>"
      ]
     },
     "metadata": {},
     "output_type": "display_data"
    }
   ],
   "source": [
    "bar_plot_value_counts(train_data, \"marital_status\", \"Marital status\")"
   ]
  },
  {
   "cell_type": "code",
   "execution_count": 21,
   "metadata": {},
   "outputs": [
    {
     "data": {
      "text/plain": [
       "age_group\n",
       "18 - 34 Years    Not Married\n",
       "35 - 44 Years        Married\n",
       "45 - 54 Years        Married\n",
       "55 - 64 Years        Married\n",
       "65+ Years        Not Married\n",
       "dtype: object"
      ]
     },
     "execution_count": 21,
     "metadata": {},
     "output_type": "execute_result"
    }
   ],
   "source": [
    "(\n",
    "    train_data.groupby([\"age_group\"])\n",
    "    .apply(lambda x: x[\"marital_status\"].value_counts().idxmax())\n",
    ")"
   ]
  },
  {
   "cell_type": "markdown",
   "metadata": {},
   "source": [
    "## <u>Task (3.2). Look at one Cell below.</u>"
   ]
  },
  {
   "cell_type": "code",
   "execution_count": 22,
   "metadata": {},
   "outputs": [],
   "source": [
    "# We will map Nans to one of the marital statuses based on age group\n",
    "# because there is correlation between marital status and age;\n",
    "# and it is better than to drop rows or fill Nans with one predefined value\n",
    "\n",
    "age_group2marital_stat = (\n",
    "    train_data.groupby([\"age_group\"])\n",
    "    .apply(lambda x: x[\"marital_status\"].value_counts().idxmax())\n",
    ")\n",
    "\n",
    "mask = train_data[\"marital_status\"].isna()\n",
    "train_data[\"marital_status\"][mask] = train_data[\"age_group\"][mask].apply(lambda x: age_group2marital_stat[x])"
   ]
  },
  {
   "cell_type": "markdown",
   "metadata": {},
   "source": [
    "### <u>\"rent_or_own\"</u>:\n",
    "### We need to fill in NaNs in some way."
   ]
  },
  {
   "cell_type": "code",
   "execution_count": 23,
   "metadata": {},
   "outputs": [
    {
     "data": {
      "image/png": "[encoded data removed]",
      "text/plain": [
       "<Figure size 432x288 with 1 Axes>"
      ]
     },
     "metadata": {},
     "output_type": "display_data"
    }
   ],
   "source": [
    "bar_plot_value_counts(train_data, \"rent_or_own\", \"Rent/Own\")"
   ]
  },
  {
   "cell_type": "code",
   "execution_count": 24,
   "metadata": {},
   "outputs": [
    {
     "data": {
      "text/plain": [
       "age_group\n",
       "18 - 34 Years    Own\n",
       "35 - 44 Years    Own\n",
       "45 - 54 Years    Own\n",
       "55 - 64 Years    Own\n",
       "65+ Years        Own\n",
       "dtype: object"
      ]
     },
     "execution_count": 24,
     "metadata": {},
     "output_type": "execute_result"
    }
   ],
   "source": [
    "(\n",
    "    train_data.groupby([\"age_group\"])\n",
    "    .apply(lambda x: x[\"rent_or_own\"].value_counts().idxmax())\n",
    ")"
   ]
  },
  {
   "cell_type": "markdown",
   "metadata": {},
   "source": [
    "## <u>Task (3.2). Look at one Cell below.</u>"
   ]
  },
  {
   "cell_type": "code",
   "execution_count": 25,
   "metadata": {},
   "outputs": [],
   "source": [
    "# We will map Nans to one of the rent statuses based on age group\n",
    "# because there is correlation between possibility to rent/own and age;\n",
    "# and it is better than to drop rows or fill Nans with one predefined value\n",
    "\n",
    "age_group2rent_own = (\n",
    "    train_data.groupby([\"age_group\"])\n",
    "    .apply(lambda x: x[\"rent_or_own\"].value_counts().idxmax())\n",
    ")\n",
    "\n",
    "mask = train_data[\"rent_or_own\"].isna()\n",
    "train_data[\"rent_or_own\"][mask] = train_data[\"age_group\"][mask].apply(lambda x: age_group2rent_own[x])"
   ]
  },
  {
   "cell_type": "markdown",
   "metadata": {},
   "source": [
    "### <u>\"employment_status\"</u>:\n",
    "### We need to fill in NaNs in some way."
   ]
  },
  {
   "cell_type": "code",
   "execution_count": 26,
   "metadata": {},
   "outputs": [
    {
     "data": {
      "image/png": "[encoded data removed]",
      "text/plain": [
       "<Figure size 432x288 with 1 Axes>"
      ]
     },
     "metadata": {},
     "output_type": "display_data"
    }
   ],
   "source": [
    "bar_plot_value_counts(train_data, \"employment_status\", \"Employment status\")"
   ]
  },
  {
   "cell_type": "code",
   "execution_count": 27,
   "metadata": {},
   "outputs": [
    {
     "data": {
      "text/plain": [
       "age_group\n",
       "18 - 34 Years              Employed\n",
       "35 - 44 Years              Employed\n",
       "45 - 54 Years              Employed\n",
       "55 - 64 Years              Employed\n",
       "65+ Years        Not in Labor Force\n",
       "dtype: object"
      ]
     },
     "execution_count": 27,
     "metadata": {},
     "output_type": "execute_result"
    }
   ],
   "source": [
    "(\n",
    "    train_data.groupby([\"age_group\"])\n",
    "    .apply(lambda x: x[\"employment_status\"].value_counts().idxmax())\n",
    ")"
   ]
  },
  {
   "cell_type": "markdown",
   "metadata": {},
   "source": [
    "## <u>Task (3.2). Look at one Cell below.</u>"
   ]
  },
  {
   "cell_type": "code",
   "execution_count": 28,
   "metadata": {},
   "outputs": [],
   "source": [
    "# We will map Nans to one of the employment statuses based on age group\n",
    "# because there is correlation between employment status  and age;\n",
    "# and it is better than to drop rows or fill Nans with one predefined value\n",
    "\n",
    "\n",
    "age_group2emp_stat = (\n",
    "    train_data.groupby([\"age_group\"])\n",
    "    .apply(lambda x: x[\"employment_status\"].value_counts().idxmax())\n",
    ")\n",
    "\n",
    "mask = train_data[\"employment_status\"].isna()\n",
    "train_data[\"employment_status\"][mask] = train_data[\"age_group\"][mask].apply(lambda x: age_group2emp_stat[x])"
   ]
  },
  {
   "cell_type": "markdown",
   "metadata": {},
   "source": [
    "### <u>\"employment_industry\"</u>:\n",
    "### We need to fill in NaNs in some way."
   ]
  },
  {
   "cell_type": "code",
   "execution_count": 29,
   "metadata": {},
   "outputs": [
    {
     "data": {
      "image/png": "[encoded data removed]",
      "text/plain": [
       "<Figure size 432x288 with 1 Axes>"
      ]
     },
     "metadata": {},
     "output_type": "display_data"
    }
   ],
   "source": [
    "bar_plot_value_counts(train_data, \"employment_industry\", \"Employment industry \")"
   ]
  },
  {
   "cell_type": "code",
   "execution_count": 30,
   "metadata": {},
   "outputs": [
    {
     "data": {
      "text/plain": [
       "education\n",
       "12 Years            fcxhlnwr\n",
       "< 12 Years          xicduogh\n",
       "College Graduate    wxleyezf\n",
       "Some College        fcxhlnwr\n",
       "dtype: object"
      ]
     },
     "execution_count": 30,
     "metadata": {},
     "output_type": "execute_result"
    }
   ],
   "source": [
    "(\n",
    "    train_data.groupby([\"education\"])\n",
    "    .apply(lambda x: x[\"employment_industry\"].value_counts().idxmax())\n",
    ")"
   ]
  },
  {
   "cell_type": "markdown",
   "metadata": {},
   "source": [
    "## <u>Task (3.2). Look at one Cell below.</u>"
   ]
  },
  {
   "cell_type": "code",
   "execution_count": 31,
   "metadata": {},
   "outputs": [],
   "source": [
    "# We will map Nans to one of the employment industries based on education\n",
    "# because there is correlation between employment industry and education;\n",
    "# and it is better than to drop rows or fill Nans with one predefined value\n",
    "\n",
    "\n",
    "education2emp_idstry = (\n",
    "    train_data.groupby([\"education\"])\n",
    "    .apply(lambda x: x[\"employment_industry\"].value_counts().idxmax())\n",
    ")\n",
    "\n",
    "mask = train_data[\"employment_industry\"].isna()\n",
    "train_data[\"employment_industry\"][mask] = train_data[\"education\"][mask].apply(lambda x: education2emp_idstry[x])"
   ]
  },
  {
   "cell_type": "markdown",
   "metadata": {},
   "source": [
    "### <u>\"employment_occupation\"</u>:\n",
    "### We need to fill in NaNs in some way."
   ]
  },
  {
   "cell_type": "code",
   "execution_count": 32,
   "metadata": {},
   "outputs": [
    {
     "data": {
      "image/png": "[encoded data removed]",
      "text/plain": [
       "<Figure size 432x288 with 1 Axes>"
      ]
     },
     "metadata": {},
     "output_type": "display_data"
    }
   ],
   "source": [
    "bar_plot_value_counts(train_data, \"employment_occupation\", \"Employment occupation\")"
   ]
  },
  {
   "cell_type": "markdown",
   "metadata": {},
   "source": [
    "## <u>Task (3.2). Look at one Cell below.</u>"
   ]
  },
  {
   "cell_type": "code",
   "execution_count": 33,
   "metadata": {},
   "outputs": [],
   "source": [
    "# We will map Nans to one of the employment occupations based on employment industry\n",
    "# because there is correlation between employment industry and occupation;\n",
    "# and it is better than to drop rows or fill Nans with one predefined value\n",
    "\n",
    "idstry2occup = (\n",
    "    train_data.groupby([\"employment_industry\"])\n",
    "    .apply(lambda x: x[\"employment_occupation\"].value_counts().idxmax())\n",
    ")\n",
    "\n",
    "mask = train_data[\"employment_occupation\"].isna()\n",
    "train_data[\"employment_occupation\"][mask] = train_data[\"employment_industry\"][mask].apply(lambda x: idstry2occup[x])"
   ]
  },
  {
   "cell_type": "markdown",
   "metadata": {},
   "source": [
    "### <u>\"hhs_geo_region\"</u>:\n",
    "### We have all the data, hence we will make it dummy_vals:"
   ]
  },
  {
   "cell_type": "code",
   "execution_count": 34,
   "metadata": {},
   "outputs": [
    {
     "data": {
      "image/png": "[encoded data removed]",
      "text/plain": [
       "<Figure size 432x288 with 1 Axes>"
      ]
     },
     "metadata": {},
     "output_type": "display_data"
    }
   ],
   "source": [
    "bar_plot_value_counts(train_data, \"hhs_geo_region\", \"Geo region\")"
   ]
  },
  {
   "cell_type": "code",
   "execution_count": 35,
   "metadata": {},
   "outputs": [
    {
     "data": {
      "text/plain": [
       "26707"
      ]
     },
     "execution_count": 35,
     "metadata": {},
     "output_type": "execute_result"
    }
   ],
   "source": [
    "train_data.count().min()"
   ]
  },
  {
   "cell_type": "markdown",
   "metadata": {},
   "source": [
    "### Labels:"
   ]
  },
  {
   "cell_type": "code",
   "execution_count": 36,
   "metadata": {},
   "outputs": [
    {
     "data": {
      "text/html": [
       "<div>\n",
       "<style scoped>\n",
       "    .dataframe tbody tr th:only-of-type {\n",
       "        vertical-align: middle;\n",
       "    }\n",
       "\n",
       "    .dataframe tbody tr th {\n",
       "        vertical-align: top;\n",
       "    }\n",
       "\n",
       "    .dataframe thead th {\n",
       "        text-align: right;\n",
       "    }\n",
       "</style>\n",
       "<table border=\"1\" class=\"dataframe\">\n",
       "  <thead>\n",
       "    <tr style=\"text-align: right;\">\n",
       "      <th></th>\n",
       "      <th>count</th>\n",
       "      <th>mean</th>\n",
       "      <th>std</th>\n",
       "      <th>min</th>\n",
       "      <th>25%</th>\n",
       "      <th>50%</th>\n",
       "      <th>75%</th>\n",
       "      <th>max</th>\n",
       "    </tr>\n",
       "  </thead>\n",
       "  <tbody>\n",
       "    <tr>\n",
       "      <th>h1n1_vaccine</th>\n",
       "      <td>26707.0</td>\n",
       "      <td>0.212454</td>\n",
       "      <td>0.409052</td>\n",
       "      <td>0.0</td>\n",
       "      <td>0.0</td>\n",
       "      <td>0.0</td>\n",
       "      <td>0.0</td>\n",
       "      <td>1.0</td>\n",
       "    </tr>\n",
       "    <tr>\n",
       "      <th>seasonal_vaccine</th>\n",
       "      <td>26707.0</td>\n",
       "      <td>0.465608</td>\n",
       "      <td>0.498825</td>\n",
       "      <td>0.0</td>\n",
       "      <td>0.0</td>\n",
       "      <td>0.0</td>\n",
       "      <td>1.0</td>\n",
       "      <td>1.0</td>\n",
       "    </tr>\n",
       "  </tbody>\n",
       "</table>\n",
       "</div>"
      ],
      "text/plain": [
       "                    count      mean       std  min  25%  50%  75%  max\n",
       "h1n1_vaccine      26707.0  0.212454  0.409052  0.0  0.0  0.0  0.0  1.0\n",
       "seasonal_vaccine  26707.0  0.465608  0.498825  0.0  0.0  0.0  1.0  1.0"
      ]
     },
     "execution_count": 36,
     "metadata": {},
     "output_type": "execute_result"
    }
   ],
   "source": [
    "train_target.describe().T"
   ]
  },
  {
   "cell_type": "markdown",
   "metadata": {},
   "source": [
    "## <u>Task (3.4). Look at one Cell below.</u>\n",
    "We have split the target data for seasonal vaccination and h1n1 so that they can be tested in parallel."
   ]
  },
  {
   "cell_type": "code",
   "execution_count": 37,
   "metadata": {},
   "outputs": [],
   "source": [
    "# We divide multilabel target into 2 distinct targets to be able to experiment simultaneously.\n",
    "# Besides we think that it would help us to find more accurate model as a combination of 2 separate ones\n",
    "# that are likely to have different global parameters\n",
    "\n",
    "train_target_seasonal = train_target[\"seasonal_vaccine\"]\n",
    "train_target_h1n1 = train_target[\"h1n1_vaccine\"]"
   ]
  },
  {
   "cell_type": "markdown",
   "metadata": {},
   "source": [
    "## *Create some features:*"
   ]
  },
  {
   "cell_type": "markdown",
   "metadata": {},
   "source": [
    "### custom features:"
   ]
  },
  {
   "cell_type": "markdown",
   "metadata": {},
   "source": [
    "## <u>Task (3.3). Look at the next 4 cells below.</u>\n",
    "We made a new feature which is the sum of all columns whose names start with \"behavioral\" and named its level of health responsibility."
   ]
  },
  {
   "cell_type": "code",
   "execution_count": 38,
   "metadata": {},
   "outputs": [
    {
     "data": {
      "image/png": "[encoded data removed]",
      "text/plain": [
       "<Figure size 432x288 with 1 Axes>"
      ]
     },
     "metadata": {},
     "output_type": "display_data"
    }
   ],
   "source": [
    "# Assumption: we can combine all the behavioral features as one feature because\n",
    "# they are of the same nature, we mean they categorize human health responsibility level\n",
    "# and if we sum them we will not lose any information \n",
    "\n",
    "behavioral_cols = [col for col in train_data.columns if \"behavioral\" in col]\n",
    "train_data[behavioral_cols].sum(axis=1).hist(bins=20);"
   ]
  },
  {
   "cell_type": "code",
   "execution_count": 39,
   "metadata": {},
   "outputs": [],
   "source": [
    "train_data[\"health_responsibility_level\"] = train_data[behavioral_cols].sum(axis=1)"
   ]
  },
  {
   "cell_type": "code",
   "execution_count": 40,
   "metadata": {},
   "outputs": [
    {
     "data": {
      "text/html": [
       "<div>\n",
       "<style scoped>\n",
       "    .dataframe tbody tr th:only-of-type {\n",
       "        vertical-align: middle;\n",
       "    }\n",
       "\n",
       "    .dataframe tbody tr th {\n",
       "        vertical-align: top;\n",
       "    }\n",
       "\n",
       "    .dataframe thead th {\n",
       "        text-align: right;\n",
       "    }\n",
       "</style>\n",
       "<table border=\"1\" class=\"dataframe\">\n",
       "  <thead>\n",
       "    <tr style=\"text-align: right;\">\n",
       "      <th></th>\n",
       "      <th>h1n1_vaccine</th>\n",
       "      <th>seasonal_vaccine</th>\n",
       "    </tr>\n",
       "  </thead>\n",
       "  <tbody>\n",
       "    <tr>\n",
       "      <th>behavioral_antiviral_meds</th>\n",
       "      <td>0.040226</td>\n",
       "      <td>0.006013</td>\n",
       "    </tr>\n",
       "    <tr>\n",
       "      <th>behavioral_avoidance</th>\n",
       "      <td>0.046837</td>\n",
       "      <td>0.076130</td>\n",
       "    </tr>\n",
       "    <tr>\n",
       "      <th>behavioral_face_mask</th>\n",
       "      <td>0.070413</td>\n",
       "      <td>0.050020</td>\n",
       "    </tr>\n",
       "    <tr>\n",
       "      <th>behavioral_wash_hands</th>\n",
       "      <td>0.074570</td>\n",
       "      <td>0.112254</td>\n",
       "    </tr>\n",
       "    <tr>\n",
       "      <th>behavioral_large_gatherings</th>\n",
       "      <td>0.018089</td>\n",
       "      <td>0.063722</td>\n",
       "    </tr>\n",
       "    <tr>\n",
       "      <th>behavioral_outside_home</th>\n",
       "      <td>0.022080</td>\n",
       "      <td>0.053287</td>\n",
       "    </tr>\n",
       "    <tr>\n",
       "      <th>behavioral_touch_face</th>\n",
       "      <td>0.070855</td>\n",
       "      <td>0.119925</td>\n",
       "    </tr>\n",
       "  </tbody>\n",
       "</table>\n",
       "</div>"
      ],
      "text/plain": [
       "                             h1n1_vaccine  seasonal_vaccine\n",
       "behavioral_antiviral_meds        0.040226          0.006013\n",
       "behavioral_avoidance             0.046837          0.076130\n",
       "behavioral_face_mask             0.070413          0.050020\n",
       "behavioral_wash_hands            0.074570          0.112254\n",
       "behavioral_large_gatherings      0.018089          0.063722\n",
       "behavioral_outside_home          0.022080          0.053287\n",
       "behavioral_touch_face            0.070855          0.119925"
      ]
     },
     "execution_count": 40,
     "metadata": {},
     "output_type": "execute_result"
    }
   ],
   "source": [
    "pd.concat([train_data[behavioral_cols], train_target], axis=1).corr(method='pearson').iloc[:-2, -2:]"
   ]
  },
  {
   "cell_type": "code",
   "execution_count": 41,
   "metadata": {},
   "outputs": [
    {
     "data": {
      "text/html": [
       "<div>\n",
       "<style scoped>\n",
       "    .dataframe tbody tr th:only-of-type {\n",
       "        vertical-align: middle;\n",
       "    }\n",
       "\n",
       "    .dataframe tbody tr th {\n",
       "        vertical-align: top;\n",
       "    }\n",
       "\n",
       "    .dataframe thead th {\n",
       "        text-align: right;\n",
       "    }\n",
       "</style>\n",
       "<table border=\"1\" class=\"dataframe\">\n",
       "  <thead>\n",
       "    <tr style=\"text-align: right;\">\n",
       "      <th></th>\n",
       "      <th>h1n1_vaccine</th>\n",
       "      <th>seasonal_vaccine</th>\n",
       "    </tr>\n",
       "  </thead>\n",
       "  <tbody>\n",
       "    <tr>\n",
       "      <th>health_responsibility_level</th>\n",
       "      <td>0.079923</td>\n",
       "      <td>0.126401</td>\n",
       "    </tr>\n",
       "  </tbody>\n",
       "</table>\n",
       "</div>"
      ],
      "text/plain": [
       "                             h1n1_vaccine  seasonal_vaccine\n",
       "health_responsibility_level      0.079923          0.126401"
      ]
     },
     "execution_count": 41,
     "metadata": {},
     "output_type": "execute_result"
    }
   ],
   "source": [
    "pd.concat([train_data[\"health_responsibility_level\"], train_target], axis=1).corr(method='pearson').iloc[:1, -2:]"
   ]
  },
  {
   "cell_type": "markdown",
   "metadata": {},
   "source": [
    "### Hence we have higher correlation scores for our new variable and it could improve prediction/generalization results"
   ]
  },
  {
   "cell_type": "markdown",
   "metadata": {},
   "source": [
    "### dummy features:"
   ]
  },
  {
   "cell_type": "markdown",
   "metadata": {},
   "source": [
    "## <u>Task (3.1). Look at the next 2 Cells below.</u>\n",
    "All columns with data types of the object were divided using dummy columns. We did this in order for our model to be able to handle this type of data."
   ]
  },
  {
   "cell_type": "code",
   "execution_count": 42,
   "metadata": {},
   "outputs": [
    {
     "data": {
      "text/plain": [
       "82"
      ]
     },
     "execution_count": 42,
     "metadata": {},
     "output_type": "execute_result"
    }
   ],
   "source": [
    "dummy_cols = train_data.select_dtypes(include=\"object\").columns.tolist()\n",
    "train_data[dummy_cols].nunique().sum()"
   ]
  },
  {
   "cell_type": "code",
   "execution_count": 43,
   "metadata": {},
   "outputs": [],
   "source": [
    "train_data = pd.concat([train_data, pd.get_dummies(train_data[dummy_cols])], axis=1)\n",
    "train_data = train_data.drop(columns=dummy_cols)"
   ]
  },
  {
   "cell_type": "markdown",
   "metadata": {},
   "source": [
    "# **Models Comparison:**"
   ]
  },
  {
   "cell_type": "code",
   "execution_count": 44,
   "metadata": {},
   "outputs": [],
   "source": [
    "def experiment(overall_parameters, x_train, x_test, y_train, y_test, cv=5, scoring='roc_auc', v=1):\n",
    "    results_dict = {}\n",
    "    for model_key, model_params in overall_parameters.items():\n",
    "        print(f\"{model_key}:\")\n",
    "        \n",
    "        pipe = Pipeline(steps=model_params['estimators'])\n",
    "        clf = GridSearchCV(pipe, model_params['param_grid'], cv=cv, scoring=scoring, n_jobs=-1, verbose=v)\n",
    "        clf.fit(x_train, y_train)\n",
    "        results_dict[model_key] = []\n",
    "        results_dict[model_key].append(clf.best_score_)\n",
    "        results_dict[model_key].append(clf.best_params_)\n",
    "\n",
    "        print(\"Best parameter (CV score=%0.3f):\" % clf.best_score_)\n",
    "        print(clf.best_params_)\n",
    "\n",
    "        clf.best_estimator_.fit(x_train, y_train)\n",
    "        pred = clf.best_estimator_.predict_proba(x_test)\n",
    "        score = roc_auc_score(y_test, pred[:, 1])\n",
    "        results_dict[model_key].append(score)\n",
    "        print(f\"Final roc_auc_score = {score}\")\n",
    "    return results_dict"
   ]
  },
  {
   "cell_type": "markdown",
   "metadata": {},
   "source": [
    "## Seasonal:"
   ]
  },
  {
   "cell_type": "markdown",
   "metadata": {},
   "source": [
    "### split the data on train and test:"
   ]
  },
  {
   "cell_type": "code",
   "execution_count": 45,
   "metadata": {},
   "outputs": [
    {
     "data": {
      "text/plain": [
       "0.3000336990302168"
      ]
     },
     "execution_count": 45,
     "metadata": {},
     "output_type": "execute_result"
    }
   ],
   "source": [
    "x_train, x_test, y_train, y_test = train_test_split(\n",
    "    train_data, train_target_seasonal, test_size=0.3,\n",
    "    random_state=42, shuffle=True,\n",
    "    stratify=train_target_seasonal,\n",
    ")\n",
    "\n",
    "x_test.shape[0]/train_data.shape[0]"
   ]
  },
  {
   "cell_type": "markdown",
   "metadata": {},
   "source": [
    "## <u>Task (4.1-2). Look at the next cells below.</u>\n",
    " Explanation: As we have to make our problem more specific, we saved all the rows with the help of nan changing.\n",
    " However now we have got too many columns to proceed. That is why we need some more preprocessing steps.\n",
    " \n",
    " **Firstly**, it is *PCA*, that can help us preserve all the most important features and help computationally.\n",
    " \n",
    " **Secondly**, it is *Standart Scaler*, that can help to train models like KNN and Logistic Regression."
   ]
  },
  {
   "cell_type": "markdown",
   "metadata": {},
   "source": [
    "## <u>Task (5.1-5). Look at the next cells below.</u>\n",
    "1. We use CV with 5 folds to be able to evaluate models' generalization abilities, because it is not so computationally hard and is a standard number.\n",
    "2. To evaluate our models we use roc auc metric because we have to identify the probability the person uses the vaccine(h1n1 or seasonal) and this metric is a good fit here.\n",
    "3. We choose between some standard models that that can solve classification task and try to find the best by evaluation experiments.\n",
    "4. Below we look for the best set of parameters.\n",
    "5. Below we estimate the quality of our model."
   ]
  },
  {
   "cell_type": "code",
   "execution_count": 46,
   "metadata": {},
   "outputs": [],
   "source": [
    "estimators_base = [\n",
    "    ('reduce_dim', PCA()),\n",
    "    ('scaler', StandardScaler()),\n",
    "]\n",
    "\n",
    "pca_n_components = [rank for rank in range(10, 50, 10)]\n",
    "C = [0.1, 0.15, 0.2, 0.3, 0.5, 0.7, 0.8]\n",
    "n_neighbors = [10, 20, 30]\n",
    "p = [1, 2]\n",
    "\n",
    "overall_parameters = {\n",
    "    'lr': {\n",
    "        'estimators': [\n",
    "            *estimators_base,\n",
    "            ('lr', LogisticRegression(max_iter=5000, random_state=42)),\n",
    "        ],\n",
    "        'param_grid': {\n",
    "            'reduce_dim__n_components': pca_n_components,\n",
    "            'lr__C': C,\n",
    "        }\n",
    "    },\n",
    "    'knn': {\n",
    "        'estimators': [\n",
    "            *estimators_base,\n",
    "            ('knn', KNeighborsClassifier()),\n",
    "        ],\n",
    "        'param_grid': {\n",
    "            'reduce_dim__n_components': pca_n_components,\n",
    "            'knn__n_neighbors': n_neighbors,\n",
    "            'knn__weights': ['uniform', 'distance'],\n",
    "            'knn__p': p,\n",
    "        }\n",
    "    },\n",
    "    'dtc': {\n",
    "        'estimators': [\n",
    "            *estimators_base,\n",
    "            ('dtc', DecisionTreeClassifier(random_state=42)),\n",
    "        ],\n",
    "        'param_grid': {\n",
    "            'reduce_dim__n_components': pca_n_components[1:],\n",
    "            'dtc__max_depth': [5, 10, 20, 30],\n",
    "            'dtc__max_features': ['auto', 20],\n",
    "        }\n",
    "    },\n",
    "    'svc': {\n",
    "        'estimators': [\n",
    "            *estimators_base,\n",
    "            ('svc', SVC(probability=True, gamma='auto', random_state=42)),\n",
    "        ],\n",
    "        'param_grid': {\n",
    "            'reduce_dim__n_components': pca_n_components[:-2],\n",
    "            'svc__C': C[2:5],\n",
    "        }\n",
    "    },\n",
    "    'rfc': {\n",
    "        'estimators': [\n",
    "            *estimators_base,\n",
    "            ('rfc', RandomForestClassifier(random_state=42)),\n",
    "        ],\n",
    "        'param_grid': {\n",
    "            'reduce_dim__n_components': pca_n_components,\n",
    "            'rfc__n_estimators': [550, 600],\n",
    "            'rfc__max_depth': [10, 12],\n",
    "        }\n",
    "    },\n",
    "    'gnb': {\n",
    "        'estimators': [\n",
    "            *estimators_base,\n",
    "            ('gnb', GaussianNB()),\n",
    "        ],\n",
    "        'param_grid': {\n",
    "            'reduce_dim__n_components': pca_n_components,\n",
    "        }\n",
    "    },\n",
    "    'mlp': {\n",
    "        'estimators': [\n",
    "            *estimators_base,\n",
    "            ('mlp', MLPClassifier(max_iter=800, random_state=42)),\n",
    "        ],\n",
    "        'param_grid': {\n",
    "            'reduce_dim__n_components': pca_n_components,\n",
    "            'mlp__alpha': [1e-4, 1e0],\n",
    "        }\n",
    "    }\n",
    "\n",
    "}"
   ]
  },
  {
   "cell_type": "code",
   "execution_count": 47,
   "metadata": {},
   "outputs": [
    {
     "name": "stdout",
     "output_type": "stream",
     "text": [
      "lr:\n",
      "Fitting 5 folds for each of 28 candidates, totalling 140 fits\n",
      "Best parameter (CV score=0.846):\n",
      "{'lr__C': 0.7, 'reduce_dim__n_components': 40}\n",
      "Final roc_auc_score = 0.8418030460670668\n",
      "knn:\n",
      "Fitting 5 folds for each of 48 candidates, totalling 240 fits\n",
      "Best parameter (CV score=0.806):\n",
      "{'knn__n_neighbors': 30, 'knn__p': 1, 'knn__weights': 'distance', 'reduce_dim__n_components': 20}\n",
      "Final roc_auc_score = 0.8031187379280931\n",
      "dtc:\n",
      "Fitting 5 folds for each of 24 candidates, totalling 120 fits\n",
      "Best parameter (CV score=0.762):\n",
      "{'dtc__max_depth': 5, 'dtc__max_features': 20, 'reduce_dim__n_components': 30}\n",
      "Final roc_auc_score = 0.7513597150050368\n",
      "svc:\n",
      "Fitting 5 folds for each of 6 candidates, totalling 30 fits\n",
      "Best parameter (CV score=0.841):\n",
      "{'reduce_dim__n_components': 20, 'svc__C': 0.3}\n",
      "Final roc_auc_score = 0.8394234978632513\n",
      "rfc:\n",
      "Fitting 5 folds for each of 16 candidates, totalling 80 fits\n",
      "Best parameter (CV score=0.834):\n",
      "{'reduce_dim__n_components': 40, 'rfc__max_depth': 12, 'rfc__n_estimators': 600}\n",
      "Final roc_auc_score = 0.8310179641618107\n",
      "gnb:\n",
      "Fitting 5 folds for each of 4 candidates, totalling 20 fits\n",
      "Best parameter (CV score=0.826):\n",
      "{'reduce_dim__n_components': 40}\n",
      "Final roc_auc_score = 0.8252902359030109\n",
      "mlp:\n",
      "Fitting 5 folds for each of 8 candidates, totalling 40 fits\n",
      "Best parameter (CV score=0.848):\n",
      "{'mlp__alpha': 1.0, 'reduce_dim__n_components': 40}\n",
      "Final roc_auc_score = 0.8464813970732108\n"
     ]
    }
   ],
   "source": [
    "results_dict_seasonal = experiment(overall_parameters, x_train, x_test, y_train, y_test, cv=5, scoring='roc_auc', v=1)"
   ]
  },
  {
   "cell_type": "markdown",
   "metadata": {},
   "source": [
    "## H1N1:"
   ]
  },
  {
   "cell_type": "code",
   "execution_count": 48,
   "metadata": {},
   "outputs": [],
   "source": [
    "x_train, x_test, y_train, y_test = train_test_split(\n",
    "    train_data, train_target_h1n1, test_size=0.3,\n",
    "    random_state=42, shuffle=True,\n",
    "    stratify=train_target_seasonal,\n",
    ")"
   ]
  },
  {
   "cell_type": "code",
   "execution_count": 49,
   "metadata": {},
   "outputs": [
    {
     "name": "stdout",
     "output_type": "stream",
     "text": [
      "lr:\n",
      "Fitting 5 folds for each of 28 candidates, totalling 140 fits\n",
      "Best parameter (CV score=0.810):\n",
      "{'lr__C': 0.8, 'reduce_dim__n_components': 40}\n",
      "Final roc_auc_score = 0.8103137593642866\n",
      "knn:\n",
      "Fitting 5 folds for each of 48 candidates, totalling 240 fits\n",
      "Best parameter (CV score=0.778):\n",
      "{'knn__n_neighbors': 30, 'knn__p': 2, 'knn__weights': 'distance', 'reduce_dim__n_components': 20}\n",
      "Final roc_auc_score = 0.770195039805348\n",
      "dtc:\n",
      "Fitting 5 folds for each of 24 candidates, totalling 120 fits\n",
      "Best parameter (CV score=0.727):\n",
      "{'dtc__max_depth': 5, 'dtc__max_features': 20, 'reduce_dim__n_components': 20}\n",
      "Final roc_auc_score = 0.7299288621184892\n",
      "svc:\n",
      "Fitting 5 folds for each of 6 candidates, totalling 30 fits\n",
      "Best parameter (CV score=0.796):\n",
      "{'reduce_dim__n_components': 20, 'svc__C': 0.2}\n",
      "Final roc_auc_score = 0.7817395273660954\n",
      "rfc:\n",
      "Fitting 5 folds for each of 16 candidates, totalling 80 fits\n",
      "Best parameter (CV score=0.799):\n",
      "{'reduce_dim__n_components': 20, 'rfc__max_depth': 12, 'rfc__n_estimators': 550}\n",
      "Final roc_auc_score = 0.7943595318510484\n",
      "gnb:\n",
      "Fitting 5 folds for each of 4 candidates, totalling 20 fits\n",
      "Best parameter (CV score=0.799):\n",
      "{'reduce_dim__n_components': 40}\n",
      "Final roc_auc_score = 0.7998329178847419\n",
      "mlp:\n",
      "Fitting 5 folds for each of 8 candidates, totalling 40 fits\n"
     ]
    },
    {
     "name": "stderr",
     "output_type": "stream",
     "text": [
      "/home/albert/.local/lib/python3.9/site-packages/sklearn/neural_network/_multilayer_perceptron.py:614: ConvergenceWarning: Stochastic Optimizer: Maximum iterations (800) reached and the optimization hasn't converged yet.\n",
      "  warnings.warn(\n"
     ]
    },
    {
     "name": "stdout",
     "output_type": "stream",
     "text": [
      "Best parameter (CV score=0.817):\n",
      "{'mlp__alpha': 1.0, 'reduce_dim__n_components': 30}\n",
      "Final roc_auc_score = 0.8151042937024622\n"
     ]
    }
   ],
   "source": [
    "results_dict_h1n1 = experiment(overall_parameters, x_train, x_test, y_train, y_test, cv=5, scoring='roc_auc', v=1)"
   ]
  },
  {
   "cell_type": "markdown",
   "metadata": {},
   "source": [
    "# Final Model:"
   ]
  },
  {
   "cell_type": "code",
   "execution_count": 77,
   "metadata": {},
   "outputs": [
    {
     "name": "stdout",
     "output_type": "stream",
     "text": [
      "Models quality on Seasonal data:\n"
     ]
    },
    {
     "data": {
      "text/plain": [
       "mlp    0.846481\n",
       "lr     0.841803\n",
       "svc    0.839423\n",
       "rfc    0.831018\n",
       "gnb    0.825290\n",
       "knn    0.803119\n",
       "dtc    0.751360\n",
       "Name: SEASONAL, dtype: float64"
      ]
     },
     "execution_count": 77,
     "metadata": {},
     "output_type": "execute_result"
    }
   ],
   "source": [
    "print(\"Models quality on Seasonal data:\")\n",
    "pd.Series({key: val[2] for key, val in results_dict_seasonal.items()}, name=\"SEASONAL\").sort_values(ascending=False)"
   ]
  },
  {
   "cell_type": "code",
   "execution_count": 78,
   "metadata": {},
   "outputs": [
    {
     "name": "stdout",
     "output_type": "stream",
     "text": [
      "Models quality on H1N1 data:\n"
     ]
    },
    {
     "data": {
      "text/plain": [
       "mlp    0.815104\n",
       "lr     0.810314\n",
       "gnb    0.799833\n",
       "rfc    0.794360\n",
       "svc    0.781740\n",
       "knn    0.770195\n",
       "dtc    0.729929\n",
       "Name: H1N1, dtype: float64"
      ]
     },
     "execution_count": 78,
     "metadata": {},
     "output_type": "execute_result"
    }
   ],
   "source": [
    "print(\"Models quality on H1N1 data:\")\n",
    "pd.Series({key: val[2] for key, val in results_dict_h1n1.items()}, name=\"H1N1\").sort_values(ascending=False)"
   ]
  },
  {
   "cell_type": "code",
   "execution_count": 103,
   "metadata": {},
   "outputs": [
    {
     "data": {
      "text/plain": [
       "({'mlp__alpha': 1.0, 'reduce_dim__n_components': 40},\n",
       " {'mlp__alpha': 1.0, 'reduce_dim__n_components': 30})"
      ]
     },
     "execution_count": 103,
     "metadata": {},
     "output_type": "execute_result"
    }
   ],
   "source": [
    "results_dict_seasonal[\"mlp\"][1], results_dict_h1n1[\"mlp\"][1]"
   ]
  },
  {
   "cell_type": "code",
   "execution_count": 127,
   "metadata": {},
   "outputs": [],
   "source": [
    "class FluVaccinationModel:\n",
    "    \n",
    "    def __init__(self, h1n1_params, season_params):\n",
    "        self.h1n1_model_params = {key.split(\"__\")[-1]: val for key, val in h1n1_params.items() if 'mlp' in key}\n",
    "        self.h1n1_pca_params = {key.split(\"__\")[-1]: val for key, val in h1n1_params.items() if 'reduce_dim' in key}\n",
    "        \n",
    "        self.season_model_params = {key.split(\"__\")[-1]: val for key, val in season_params.items() if 'mlp' in key}\n",
    "        self.season_pca_params = {key.split(\"__\")[-1]: val for key, val in season_params.items() if 'reduce_dim' in key}\n",
    "        \n",
    "        est_seasonal = [\n",
    "            ('reduce_dim', PCA(**self.season_pca_params)),\n",
    "            ('scaler', StandardScaler()),\n",
    "            ('mlp', MLPClassifier(**self.season_model_params, max_iter=800, random_state=42))\n",
    "        ]\n",
    "\n",
    "        est_h1n1 = [\n",
    "            ('reduce_dim', PCA(**self.h1n1_pca_params)),\n",
    "            ('scaler', StandardScaler()),\n",
    "            ('mlp', MLPClassifier(**self.h1n1_model_params, max_iter=800, random_state=42))\n",
    "        ]\n",
    "        \n",
    "        self.model_seasonal = Pipeline(steps=est_seasonal)\n",
    "        self.model_h1n1 = Pipeline(steps=est_h1n1)\n",
    "    \n",
    "    def fit(self, x_train, y_train):\n",
    "        self.model_seasonal.fit(x_train, y_train[\"seasonal_vaccine\"])\n",
    "        self.model_h1n1.fit(x_train, y_train[\"h1n1_vaccine\"])\n",
    "    \n",
    "    def predict_proba(self, x, mode=\"seasonal\"):\n",
    "        if mode == \"seasonal\":\n",
    "            return self.model_seasonal.predict_proba(x)\n",
    "        elif mode == \"h1n1\":\n",
    "            return self.model_h1n1.predict_proba(x)\n",
    "        else:\n",
    "            assert False"
   ]
  },
  {
   "cell_type": "code",
   "execution_count": 128,
   "metadata": {},
   "outputs": [],
   "source": [
    "x_train, x_test, y_train, y_test = train_test_split(\n",
    "    train_data, train_target, test_size=0.3,\n",
    "    random_state=42, shuffle=True,\n",
    "    stratify=train_target,\n",
    ")"
   ]
  },
  {
   "cell_type": "code",
   "execution_count": 130,
   "metadata": {},
   "outputs": [],
   "source": [
    "model = FluVaccinationModel(results_dict_h1n1[\"mlp\"][1], results_dict_seasonal[\"mlp\"][1])"
   ]
  },
  {
   "cell_type": "code",
   "execution_count": 131,
   "metadata": {},
   "outputs": [],
   "source": [
    "model.fit(x_train, y_train)"
   ]
  },
  {
   "cell_type": "code",
   "execution_count": 132,
   "metadata": {},
   "outputs": [
    {
     "data": {
      "text/plain": [
       "0.8170781957751568"
      ]
     },
     "execution_count": 132,
     "metadata": {},
     "output_type": "execute_result"
    }
   ],
   "source": [
    "pred = model.predict_proba(x_test, mode=\"h1n1\")\n",
    "score_h1n1 = roc_auc_score(y_test['h1n1_vaccine'], pred[:, 1])\n",
    "score_h1n1"
   ]
  },
  {
   "cell_type": "code",
   "execution_count": 133,
   "metadata": {},
   "outputs": [
    {
     "data": {
      "text/plain": [
       "0.851145351612423"
      ]
     },
     "execution_count": 133,
     "metadata": {},
     "output_type": "execute_result"
    }
   ],
   "source": [
    "pred = model.predict_proba(x_test, mode=\"seasonal\")\n",
    "score_seasonal = roc_auc_score(y_test['seasonal_vaccine'], pred[:, 1])\n",
    "score_seasonal"
   ]
  },
  {
   "cell_type": "code",
   "execution_count": 134,
   "metadata": {},
   "outputs": [
    {
     "data": {
      "text/plain": [
       "0.83411177369379"
      ]
     },
     "execution_count": 134,
     "metadata": {},
     "output_type": "execute_result"
    }
   ],
   "source": [
    "(score_h1n1 + score_seasonal) / 2"
   ]
  },
  {
   "cell_type": "markdown",
   "metadata": {},
   "source": [
    "## <u>Task (6.1-4). Look at the next cells below.</u>\n",
    "1. As a matter of fact we can make more accurate predictions for h1n1 vaccination it can be caused by people are not really aware of that(personally I had known nothing about it before I begin to work with the data)\n",
    "2. Model can be applied in real-world scenario because it works accurately and can be a good accompaniment and help to experts in the problem domain.\n",
    "3. Our problem solves the problem stated in the beggining with an accuracy 83%; It is not likely to substitute people's work but can make it easy without any doubt.\n",
    "4. We think that our model can help scientists as an extra instrument and tool to realize how many people are likely to get vaccinated and plan supplies and solve some economical issues."
   ]
  }
 ],
 "metadata": {
  "interpreter": {
   "hash": "916dbcbb3f70747c44a77c7bcd40155683ae19c65e1c03b4aa3499c5328201f1"
  },
  "kernelspec": {
   "display_name": "Python 3.9.5 64-bit",
   "name": "python3"
  },
  "language_info": {
   "codemirror_mode": {
    "name": "ipython",
    "version": 3
   },
   "file_extension": ".py",
   "mimetype": "text/x-python",
   "name": "python",
   "nbconvert_exporter": "python",
   "pygments_lexer": "ipython3",
   "version": "3.9.5"
  },
  "orig_nbformat": 4
 },
 "nbformat": 4,
 "nbformat_minor": 2
}
